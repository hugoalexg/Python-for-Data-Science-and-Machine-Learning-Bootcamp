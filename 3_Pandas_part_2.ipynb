{
  "nbformat": 4,
  "nbformat_minor": 0,
  "metadata": {
    "colab": {
      "name": "3 - Pandas - part 2.ipynb",
      "provenance": [],
      "collapsed_sections": [],
      "authorship_tag": "ABX9TyPhsq0Mpei3rCEGA9gcrg3d",
      "include_colab_link": true
    },
    "kernelspec": {
      "name": "python3",
      "display_name": "Python 3"
    }
  },
  "cells": [
    {
      "cell_type": "markdown",
      "metadata": {
        "id": "view-in-github",
        "colab_type": "text"
      },
      "source": [
        "<a href=\"https://colab.research.google.com/github/hugoalexg/Python-for-Data-Science-and-Machine-Learning-Bootcamp/blob/main/3_Pandas_part_2.ipynb\" target=\"_parent\"><img src=\"https://colab.research.google.com/assets/colab-badge.svg\" alt=\"Open In Colab\"/></a>"
      ]
    },
    {
      "cell_type": "markdown",
      "metadata": {
        "id": "c67Rjy1_Ff5J"
      },
      "source": [
        "Import pandas and read in the Ecommerce Purchases csv file and set it to a DataFrame called ecom."
      ]
    },
    {
      "cell_type": "code",
      "metadata": {
        "id": "oR73rbKsFg6G"
      },
      "source": [
        "import numpy as np\n",
        "import pandas as pd"
      ],
      "execution_count": null,
      "outputs": []
    },
    {
      "cell_type": "code",
      "metadata": {
        "id": "plIDbc4pb072"
      },
      "source": [
        "from google.colab import drive\n",
        "drive.mount(\"/content/drive\", force_remount=True)"
      ],
      "execution_count": null,
      "outputs": []
    },
    {
      "cell_type": "code",
      "metadata": {
        "id": "YFksUZv-btgC"
      },
      "source": [
        "ecom = pd.read_csv('/content/drive/My Drive/Python for Data Science and Machine Learning Bootcamp/Files/Ecommerce Purchases')"
      ],
      "execution_count": null,
      "outputs": []
    },
    {
      "cell_type": "markdown",
      "metadata": {
        "id": "7oQIVnHEF3yj"
      },
      "source": [
        "Check the head of the DataFrame."
      ]
    },
    {
      "cell_type": "code",
      "metadata": {
        "id": "7VX5OVZpF6qV",
        "colab": {
          "base_uri": "https://localhost:8080/",
          "height": 585
        },
        "outputId": "19d39c66-9662-4a5a-f708-ce41d35c89f7"
      },
      "source": [
        "ecom.head(5)"
      ],
      "execution_count": null,
      "outputs": [
        {
          "output_type": "execute_result",
          "data": {
            "text/html": [
              "<div>\n",
              "<style scoped>\n",
              "    .dataframe tbody tr th:only-of-type {\n",
              "        vertical-align: middle;\n",
              "    }\n",
              "\n",
              "    .dataframe tbody tr th {\n",
              "        vertical-align: top;\n",
              "    }\n",
              "\n",
              "    .dataframe thead th {\n",
              "        text-align: right;\n",
              "    }\n",
              "</style>\n",
              "<table border=\"1\" class=\"dataframe\">\n",
              "  <thead>\n",
              "    <tr style=\"text-align: right;\">\n",
              "      <th></th>\n",
              "      <th>Address</th>\n",
              "      <th>Lot</th>\n",
              "      <th>AM or PM</th>\n",
              "      <th>Browser Info</th>\n",
              "      <th>Company</th>\n",
              "      <th>Credit Card</th>\n",
              "      <th>CC Exp Date</th>\n",
              "      <th>CC Security Code</th>\n",
              "      <th>CC Provider</th>\n",
              "      <th>Email</th>\n",
              "      <th>Job</th>\n",
              "      <th>IP Address</th>\n",
              "      <th>Language</th>\n",
              "      <th>Purchase Price</th>\n",
              "    </tr>\n",
              "  </thead>\n",
              "  <tbody>\n",
              "    <tr>\n",
              "      <th>0</th>\n",
              "      <td>16629 Pace Camp Apt. 448\\nAlexisborough, NE 77...</td>\n",
              "      <td>46 in</td>\n",
              "      <td>PM</td>\n",
              "      <td>Opera/9.56.(X11; Linux x86_64; sl-SI) Presto/2...</td>\n",
              "      <td>Martinez-Herman</td>\n",
              "      <td>6011929061123406</td>\n",
              "      <td>02/20</td>\n",
              "      <td>900</td>\n",
              "      <td>JCB 16 digit</td>\n",
              "      <td>pdunlap@yahoo.com</td>\n",
              "      <td>Scientist, product/process development</td>\n",
              "      <td>149.146.147.205</td>\n",
              "      <td>el</td>\n",
              "      <td>98.14</td>\n",
              "    </tr>\n",
              "    <tr>\n",
              "      <th>1</th>\n",
              "      <td>9374 Jasmine Spurs Suite 508\\nSouth John, TN 8...</td>\n",
              "      <td>28 rn</td>\n",
              "      <td>PM</td>\n",
              "      <td>Opera/8.93.(Windows 98; Win 9x 4.90; en-US) Pr...</td>\n",
              "      <td>Fletcher, Richards and Whitaker</td>\n",
              "      <td>3337758169645356</td>\n",
              "      <td>11/18</td>\n",
              "      <td>561</td>\n",
              "      <td>Mastercard</td>\n",
              "      <td>anthony41@reed.com</td>\n",
              "      <td>Drilling engineer</td>\n",
              "      <td>15.160.41.51</td>\n",
              "      <td>fr</td>\n",
              "      <td>70.73</td>\n",
              "    </tr>\n",
              "    <tr>\n",
              "      <th>2</th>\n",
              "      <td>Unit 0065 Box 5052\\nDPO AP 27450</td>\n",
              "      <td>94 vE</td>\n",
              "      <td>PM</td>\n",
              "      <td>Mozilla/5.0 (compatible; MSIE 9.0; Windows NT ...</td>\n",
              "      <td>Simpson, Williams and Pham</td>\n",
              "      <td>675957666125</td>\n",
              "      <td>08/19</td>\n",
              "      <td>699</td>\n",
              "      <td>JCB 16 digit</td>\n",
              "      <td>amymiller@morales-harrison.com</td>\n",
              "      <td>Customer service manager</td>\n",
              "      <td>132.207.160.22</td>\n",
              "      <td>de</td>\n",
              "      <td>0.95</td>\n",
              "    </tr>\n",
              "    <tr>\n",
              "      <th>3</th>\n",
              "      <td>7780 Julia Fords\\nNew Stacy, WA 45798</td>\n",
              "      <td>36 vm</td>\n",
              "      <td>PM</td>\n",
              "      <td>Mozilla/5.0 (Macintosh; Intel Mac OS X 10_8_0 ...</td>\n",
              "      <td>Williams, Marshall and Buchanan</td>\n",
              "      <td>6011578504430710</td>\n",
              "      <td>02/24</td>\n",
              "      <td>384</td>\n",
              "      <td>Discover</td>\n",
              "      <td>brent16@olson-robinson.info</td>\n",
              "      <td>Drilling engineer</td>\n",
              "      <td>30.250.74.19</td>\n",
              "      <td>es</td>\n",
              "      <td>78.04</td>\n",
              "    </tr>\n",
              "    <tr>\n",
              "      <th>4</th>\n",
              "      <td>23012 Munoz Drive Suite 337\\nNew Cynthia, TX 5...</td>\n",
              "      <td>20 IE</td>\n",
              "      <td>AM</td>\n",
              "      <td>Opera/9.58.(X11; Linux x86_64; it-IT) Presto/2...</td>\n",
              "      <td>Brown, Watson and Andrews</td>\n",
              "      <td>6011456623207998</td>\n",
              "      <td>10/25</td>\n",
              "      <td>678</td>\n",
              "      <td>Diners Club / Carte Blanche</td>\n",
              "      <td>christopherwright@gmail.com</td>\n",
              "      <td>Fine artist</td>\n",
              "      <td>24.140.33.94</td>\n",
              "      <td>es</td>\n",
              "      <td>77.82</td>\n",
              "    </tr>\n",
              "  </tbody>\n",
              "</table>\n",
              "</div>"
            ],
            "text/plain": [
              "                                             Address  ... Purchase Price\n",
              "0  16629 Pace Camp Apt. 448\\nAlexisborough, NE 77...  ...          98.14\n",
              "1  9374 Jasmine Spurs Suite 508\\nSouth John, TN 8...  ...          70.73\n",
              "2                   Unit 0065 Box 5052\\nDPO AP 27450  ...           0.95\n",
              "3              7780 Julia Fords\\nNew Stacy, WA 45798  ...          78.04\n",
              "4  23012 Munoz Drive Suite 337\\nNew Cynthia, TX 5...  ...          77.82\n",
              "\n",
              "[5 rows x 14 columns]"
            ]
          },
          "metadata": {
            "tags": []
          },
          "execution_count": 2
        }
      ]
    },
    {
      "cell_type": "markdown",
      "metadata": {
        "id": "q-M8HA9OGBx-"
      },
      "source": [
        "How many rows and columns are there?"
      ]
    },
    {
      "cell_type": "code",
      "metadata": {
        "id": "NKq1OcQhGEyO",
        "colab": {
          "base_uri": "https://localhost:8080/"
        },
        "outputId": "8df6331c-2cf7-498f-d67c-cebabd162fc0"
      },
      "source": [
        "print(len(ecom.columns))\n",
        "print(len(ecom.index))\n"
      ],
      "execution_count": null,
      "outputs": [
        {
          "output_type": "stream",
          "text": [
            "14\n",
            "10000\n"
          ],
          "name": "stdout"
        }
      ]
    },
    {
      "cell_type": "code",
      "metadata": {
        "id": "3Ryfa5btGLTn",
        "colab": {
          "base_uri": "https://localhost:8080/"
        },
        "outputId": "feb652e7-aeaa-41ee-ef06-46610a434df1"
      },
      "source": [
        "ecom.info(0)"
      ],
      "execution_count": null,
      "outputs": [
        {
          "output_type": "stream",
          "text": [
            "<class 'pandas.core.frame.DataFrame'>\n",
            "RangeIndex: 10000 entries, 0 to 9999\n",
            "Data columns (total 14 columns):\n",
            " #   Column            Non-Null Count  Dtype  \n",
            "---  ------            --------------  -----  \n",
            " 0   Address           10000 non-null  object \n",
            " 1   Lot               10000 non-null  object \n",
            " 2   AM or PM          10000 non-null  object \n",
            " 3   Browser Info      10000 non-null  object \n",
            " 4   Company           10000 non-null  object \n",
            " 5   Credit Card       10000 non-null  int64  \n",
            " 6   CC Exp Date       10000 non-null  object \n",
            " 7   CC Security Code  10000 non-null  int64  \n",
            " 8   CC Provider       10000 non-null  object \n",
            " 9   Email             10000 non-null  object \n",
            " 10  Job               10000 non-null  object \n",
            " 11  IP Address        10000 non-null  object \n",
            " 12  Language          10000 non-null  object \n",
            " 13  Purchase Price    10000 non-null  float64\n",
            "dtypes: float64(1), int64(2), object(11)\n",
            "memory usage: 1.1+ MB\n"
          ],
          "name": "stdout"
        }
      ]
    },
    {
      "cell_type": "markdown",
      "metadata": {
        "id": "yN3IlzgqGSW6"
      },
      "source": [
        "What is the average Purchase Price?"
      ]
    },
    {
      "cell_type": "code",
      "metadata": {
        "id": "94nNL2p-GWa2",
        "colab": {
          "base_uri": "https://localhost:8080/"
        },
        "outputId": "4da42827-7b92-42a8-d7a4-aab4fac7a65f"
      },
      "source": [
        "print(ecom['Purchase Price'].mean())\n"
      ],
      "execution_count": null,
      "outputs": [
        {
          "output_type": "stream",
          "text": [
            "50.34730200000025\n"
          ],
          "name": "stdout"
        }
      ]
    },
    {
      "cell_type": "markdown",
      "metadata": {
        "id": "OswS5CR5Gf8-"
      },
      "source": [
        "What were the highest and lowest purchase prices?"
      ]
    },
    {
      "cell_type": "code",
      "metadata": {
        "id": "NFVb3xHbGgeO",
        "colab": {
          "base_uri": "https://localhost:8080/"
        },
        "outputId": "d779f30f-2bf0-400c-8b89-db1b98943963"
      },
      "source": [
        "print(ecom['Purchase Price'].max())\n",
        "print(ecom['Purchase Price'].min())"
      ],
      "execution_count": null,
      "outputs": [
        {
          "output_type": "stream",
          "text": [
            "99.99\n",
            "0.0\n"
          ],
          "name": "stdout"
        }
      ]
    },
    {
      "cell_type": "markdown",
      "metadata": {
        "id": "e3mD_1ezGmRh"
      },
      "source": [
        "How many people have English 'en' as their Language of choice on the website?"
      ]
    },
    {
      "cell_type": "code",
      "metadata": {
        "id": "1VRRV_ObGrjN",
        "colab": {
          "base_uri": "https://localhost:8080/"
        },
        "outputId": "92c49ab2-ed3f-42b3-a4f1-ad56455e2028"
      },
      "source": [
        "lang = ecom.groupby('Language')\n",
        "print(lang.count().loc['en']['Email'])"
      ],
      "execution_count": null,
      "outputs": [
        {
          "output_type": "stream",
          "text": [
            "1098\n"
          ],
          "name": "stdout"
        }
      ]
    },
    {
      "cell_type": "markdown",
      "metadata": {
        "id": "5UEYzkruH2g_"
      },
      "source": [
        "How many people have the job title of \"Lawyer\" ?"
      ]
    },
    {
      "cell_type": "code",
      "metadata": {
        "id": "yuOJ8VFmH27G",
        "colab": {
          "base_uri": "https://localhost:8080/"
        },
        "outputId": "46c37b8b-8ea2-436b-f270-5a389b4713e6"
      },
      "source": [
        "job = ecom[ecom['Job'] == 'Lawyer']\n",
        "print(len(job['Email'].index))"
      ],
      "execution_count": null,
      "outputs": [
        {
          "output_type": "stream",
          "text": [
            "30\n"
          ],
          "name": "stdout"
        }
      ]
    },
    {
      "cell_type": "markdown",
      "metadata": {
        "id": "LoPycbxuH_kF"
      },
      "source": [
        "How many people made the purchase during the AM and how many people made the purchase during PM ?"
      ]
    },
    {
      "cell_type": "code",
      "metadata": {
        "id": "WlBUfTI3IAT-",
        "colab": {
          "base_uri": "https://localhost:8080/"
        },
        "outputId": "50546052-d545-4ce0-cdde-e4e29bbc8d51"
      },
      "source": [
        "print(ecom['AM or PM'].value_counts())"
      ],
      "execution_count": null,
      "outputs": [
        {
          "output_type": "stream",
          "text": [
            "PM    5068\n",
            "AM    4932\n",
            "Name: AM or PM, dtype: int64\n"
          ],
          "name": "stdout"
        }
      ]
    },
    {
      "cell_type": "markdown",
      "metadata": {
        "id": "vMzE4xoJIEu6"
      },
      "source": [
        "What are the 5 most common Job Titles?"
      ]
    },
    {
      "cell_type": "code",
      "metadata": {
        "id": "_mB-_404IIE4",
        "colab": {
          "base_uri": "https://localhost:8080/"
        },
        "outputId": "edd2ff27-c9fd-4ceb-9219-c9382956b75e"
      },
      "source": [
        "print(ecom['Job'].value_counts().head(5))"
      ],
      "execution_count": null,
      "outputs": [
        {
          "output_type": "stream",
          "text": [
            "Interior and spatial designer        31\n",
            "Lawyer                               30\n",
            "Social researcher                    28\n",
            "Designer, jewellery                  27\n",
            "Research officer, political party    27\n",
            "Name: Job, dtype: int64\n"
          ],
          "name": "stdout"
        }
      ]
    },
    {
      "cell_type": "markdown",
      "metadata": {
        "id": "9moP9-xfIOYb"
      },
      "source": [
        "Someone made a purchase that came from Lot: \"90 WT\" , what was the Purchase Price for this transaction?"
      ]
    },
    {
      "cell_type": "code",
      "metadata": {
        "id": "P1N48j7tIS7W",
        "colab": {
          "base_uri": "https://localhost:8080/"
        },
        "outputId": "7774d2f6-04ce-4354-d3a9-1504ca400ae6"
      },
      "source": [
        "newdf = ecom[ecom['Lot'] == '90 WT']\n",
        "print(newdf['Purchase Price'])"
      ],
      "execution_count": null,
      "outputs": [
        {
          "output_type": "stream",
          "text": [
            "513    75.1\n",
            "Name: Purchase Price, dtype: float64\n"
          ],
          "name": "stdout"
        }
      ]
    },
    {
      "cell_type": "markdown",
      "metadata": {
        "id": "ZncPlGAjIv4b"
      },
      "source": [
        "What is the email of the person with the following Credit Card Number: 4926535242672853"
      ]
    },
    {
      "cell_type": "code",
      "metadata": {
        "id": "vxFmdDPmIwfk",
        "colab": {
          "base_uri": "https://localhost:8080/"
        },
        "outputId": "7399ba24-6399-4f69-80e9-c62993bf495c"
      },
      "source": [
        "newdf = ecom[ecom['Credit Card'] == 4926535242672853]\n",
        "print(newdf['Email'])"
      ],
      "execution_count": null,
      "outputs": [
        {
          "output_type": "stream",
          "text": [
            "1234    bondellen@williams-garza.com\n",
            "Name: Email, dtype: object\n"
          ],
          "name": "stdout"
        }
      ]
    },
    {
      "cell_type": "markdown",
      "metadata": {
        "id": "6GOQnqxpI2kk"
      },
      "source": [
        "How many people have American Express as their Credit Card Provider *and made a purchase above $95 ?"
      ]
    },
    {
      "cell_type": "code",
      "metadata": {
        "id": "xDuiMAjzI6rp",
        "colab": {
          "base_uri": "https://localhost:8080/"
        },
        "outputId": "33f4a0cc-4cdd-4a8b-819b-cafa2463307e"
      },
      "source": [
        "newdf = ecom[(ecom['CC Provider'] == 'American Express') & (ecom['Purchase Price'] >= 95)]\n",
        "print(newdf.count()['Email'])"
      ],
      "execution_count": null,
      "outputs": [
        {
          "output_type": "stream",
          "text": [
            "39\n"
          ],
          "name": "stdout"
        }
      ]
    },
    {
      "cell_type": "markdown",
      "metadata": {
        "id": "mObZO808JEJL"
      },
      "source": [
        "Hard: How many people have a credit card that expires in 2025?"
      ]
    },
    {
      "cell_type": "code",
      "metadata": {
        "id": "17-KYQqEJIsq",
        "colab": {
          "base_uri": "https://localhost:8080/"
        },
        "outputId": "d9d0f938-2ac8-40d8-f25f-4b4a6ead42a6"
      },
      "source": [
        "def string25(date):\n",
        "\tif '25' in date.split('/'):\n",
        "\t\treturn True\n",
        "\telse:\n",
        "\t\treturn False\n",
        "print(sum(ecom['CC Exp Date'].apply(string25)))"
      ],
      "execution_count": null,
      "outputs": [
        {
          "output_type": "stream",
          "text": [
            "1033\n"
          ],
          "name": "stdout"
        }
      ]
    },
    {
      "cell_type": "markdown",
      "metadata": {
        "id": "FwxN23cgJU8K"
      },
      "source": [
        " Hard: What are the top 5 most popular email providers/hosts (e.g. gmail.com, yahoo.com, etc...)"
      ]
    },
    {
      "cell_type": "code",
      "metadata": {
        "id": "82AIhOAMJX0I",
        "colab": {
          "base_uri": "https://localhost:8080/"
        },
        "outputId": "e612a699-1019-4ae7-c9d7-bb1e3952821e"
      },
      "source": [
        "def domainGet(email):\n",
        "\treturn email.split('@')[1]\n",
        "print(ecom['Email'].apply(domainGet).value_counts().head(5))"
      ],
      "execution_count": null,
      "outputs": [
        {
          "output_type": "stream",
          "text": [
            "hotmail.com     1638\n",
            "yahoo.com       1616\n",
            "gmail.com       1605\n",
            "smith.com         42\n",
            "williams.com      37\n",
            "Name: Email, dtype: int64\n"
          ],
          "name": "stdout"
        }
      ]
    }
  ]
}