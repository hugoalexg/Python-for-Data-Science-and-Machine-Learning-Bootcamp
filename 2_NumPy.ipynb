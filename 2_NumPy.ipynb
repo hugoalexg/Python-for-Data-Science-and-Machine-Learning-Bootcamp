{
  "nbformat": 4,
  "nbformat_minor": 0,
  "metadata": {
    "colab": {
      "name": "2 - NumPy.ipynb",
      "provenance": [],
      "collapsed_sections": [],
      "authorship_tag": "ABX9TyOsazBNorSkzxzJmvTQUfLT",
      "include_colab_link": true
    },
    "kernelspec": {
      "name": "python3",
      "display_name": "Python 3"
    }
  },
  "cells": [
    {
      "cell_type": "markdown",
      "metadata": {
        "id": "view-in-github",
        "colab_type": "text"
      },
      "source": [
        "<a href=\"https://colab.research.google.com/github/hugoalexg/Python-for-Data-Science-and-Machine-Learning-Bootcamp/blob/main/2_NumPy.ipynb\" target=\"_parent\"><img src=\"https://colab.research.google.com/assets/colab-badge.svg\" alt=\"Open In Colab\"/></a>"
      ]
    },
    {
      "cell_type": "markdown",
      "metadata": {
        "id": "IHVH4AE_2JJ4"
      },
      "source": [
        "Import NumPy as np"
      ]
    },
    {
      "cell_type": "code",
      "metadata": {
        "id": "jy-K-M0_1XIl"
      },
      "source": [
        "import numpy as np"
      ],
      "execution_count": null,
      "outputs": []
    },
    {
      "cell_type": "markdown",
      "metadata": {
        "id": "mVHhhMQC2YN3"
      },
      "source": [
        "Create an array of 10 zeros"
      ]
    },
    {
      "cell_type": "code",
      "metadata": {
        "id": "-NCes5nM2bnl",
        "colab": {
          "base_uri": "https://localhost:8080/"
        },
        "outputId": "38bde2aa-8271-4463-b164-21e595ebf602"
      },
      "source": [
        "arr = np.zeros(10)\n",
        "print(arr)\n"
      ],
      "execution_count": null,
      "outputs": [
        {
          "output_type": "stream",
          "text": [
            "[0. 0. 0. 0. 0. 0. 0. 0. 0. 0.]\n"
          ],
          "name": "stdout"
        }
      ]
    },
    {
      "cell_type": "markdown",
      "metadata": {
        "id": "R2B5fu962f85"
      },
      "source": [
        "Create an array of 10 ones\n"
      ]
    },
    {
      "cell_type": "code",
      "metadata": {
        "id": "WMq9taIR2jwu",
        "colab": {
          "base_uri": "https://localhost:8080/"
        },
        "outputId": "6eac7c6c-2e44-46f4-84cb-59139a2535e3"
      },
      "source": [
        "arr = np.ones(10)\n",
        "print(arr)"
      ],
      "execution_count": null,
      "outputs": [
        {
          "output_type": "stream",
          "text": [
            "[1. 1. 1. 1. 1. 1. 1. 1. 1. 1.]\n"
          ],
          "name": "stdout"
        }
      ]
    },
    {
      "cell_type": "markdown",
      "metadata": {
        "id": "lLpgh1hY2st9"
      },
      "source": [
        "Create an array of 10 fives"
      ]
    },
    {
      "cell_type": "code",
      "metadata": {
        "id": "Kt27s09Z2tiZ",
        "colab": {
          "base_uri": "https://localhost:8080/"
        },
        "outputId": "65f9294d-3352-439a-d87a-4ba9b0e94bdc"
      },
      "source": [
        "arr[:] = 5\n",
        "print(arr)"
      ],
      "execution_count": null,
      "outputs": [
        {
          "output_type": "stream",
          "text": [
            "[5. 5. 5. 5. 5. 5. 5. 5. 5. 5.]\n"
          ],
          "name": "stdout"
        }
      ]
    },
    {
      "cell_type": "markdown",
      "metadata": {
        "id": "n-Tt-mj93pYV"
      },
      "source": [
        "Create an array of the integers from 10 to 50"
      ]
    },
    {
      "cell_type": "code",
      "metadata": {
        "id": "l3gU4RIb3tYd",
        "colab": {
          "base_uri": "https://localhost:8080/"
        },
        "outputId": "a414df3e-9418-4ec9-f4d9-021b329020bd"
      },
      "source": [
        "print(np.arange(10,51))"
      ],
      "execution_count": null,
      "outputs": [
        {
          "output_type": "stream",
          "text": [
            "[10 11 12 13 14 15 16 17 18 19 20 21 22 23 24 25 26 27 28 29 30 31 32 33\n",
            " 34 35 36 37 38 39 40 41 42 43 44 45 46 47 48 49 50]\n"
          ],
          "name": "stdout"
        }
      ]
    },
    {
      "cell_type": "markdown",
      "metadata": {
        "id": "lHCEDj3S3x9j"
      },
      "source": [
        "Create an array of all the even integers from 10 to 50\n"
      ]
    },
    {
      "cell_type": "code",
      "metadata": {
        "id": "27hyBXOm32xe",
        "colab": {
          "base_uri": "https://localhost:8080/"
        },
        "outputId": "a789d13d-c250-4e27-96bc-98db3ab28a92"
      },
      "source": [
        "print(np.arange(10,51,2))"
      ],
      "execution_count": null,
      "outputs": [
        {
          "output_type": "stream",
          "text": [
            "[10 12 14 16 18 20 22 24 26 28 30 32 34 36 38 40 42 44 46 48 50]\n"
          ],
          "name": "stdout"
        }
      ]
    },
    {
      "cell_type": "markdown",
      "metadata": {
        "id": "EQmljiJN5o3S"
      },
      "source": [
        "Create a 3x3 matrix with values ranging from 0 to 8"
      ]
    },
    {
      "cell_type": "code",
      "metadata": {
        "id": "gTP-peD45phA",
        "colab": {
          "base_uri": "https://localhost:8080/"
        },
        "outputId": "bde9cfcc-2b0f-473d-f392-ea7c9804c87a"
      },
      "source": [
        "arr=np.arange(9)\n",
        "arr=arr.reshape(3,3)\n",
        "print(arr)"
      ],
      "execution_count": null,
      "outputs": [
        {
          "output_type": "stream",
          "text": [
            "[[0 1 2]\n",
            " [3 4 5]\n",
            " [6 7 8]]\n"
          ],
          "name": "stdout"
        }
      ]
    },
    {
      "cell_type": "markdown",
      "metadata": {
        "id": "7dZvbIuM5sZR"
      },
      "source": [
        "Create a 3x3 identity matrix"
      ]
    },
    {
      "cell_type": "code",
      "metadata": {
        "id": "ofQ9XT105vo6",
        "colab": {
          "base_uri": "https://localhost:8080/"
        },
        "outputId": "556dfe1c-8da7-4cb7-a3fe-ad65d4ac81bb"
      },
      "source": [
        "print(np.eye(3))"
      ],
      "execution_count": null,
      "outputs": [
        {
          "output_type": "stream",
          "text": [
            "[[1. 0. 0.]\n",
            " [0. 1. 0.]\n",
            " [0. 0. 1.]]\n"
          ],
          "name": "stdout"
        }
      ]
    },
    {
      "cell_type": "markdown",
      "metadata": {
        "id": "15E5AZMf56sy"
      },
      "source": [
        "Use NumPy to generate a random number between 0 and 1"
      ]
    },
    {
      "cell_type": "code",
      "metadata": {
        "id": "2uC_Qyux59w0",
        "colab": {
          "base_uri": "https://localhost:8080/"
        },
        "outputId": "55a7f065-e429-4967-d343-3b801568d248"
      },
      "source": [
        "print(np.random.rand(1))"
      ],
      "execution_count": null,
      "outputs": [
        {
          "output_type": "stream",
          "text": [
            "[0.55364378]\n"
          ],
          "name": "stdout"
        }
      ]
    },
    {
      "cell_type": "markdown",
      "metadata": {
        "id": "ST-Gb11Z6Bl_"
      },
      "source": [
        "Use NumPy to generate an array of 25 random numbers sampled from a standard normal distribution"
      ]
    },
    {
      "cell_type": "code",
      "metadata": {
        "id": "SGQyKezQ6Fft",
        "colab": {
          "base_uri": "https://localhost:8080/"
        },
        "outputId": "225963b6-2183-4a06-a790-fe36d48565de"
      },
      "source": [
        "print(np.random.randn(25))"
      ],
      "execution_count": null,
      "outputs": [
        {
          "output_type": "stream",
          "text": [
            "[ 1.20524348  0.68825571  0.32819988  0.00867831  0.43862416 -1.81298188\n",
            "  0.42220213  2.00037064  1.6114354  -0.23510888 -1.79316144 -0.00697318\n",
            "  0.81026717  0.52521087  1.42107259  1.29251877  0.80981698 -1.05627164\n",
            " -0.60156056  1.0248097   1.09183223  1.60240662 -0.41096861 -0.36805382\n",
            "  1.49498335]\n"
          ],
          "name": "stdout"
        }
      ]
    },
    {
      "cell_type": "markdown",
      "metadata": {
        "id": "evL6erCV6SHL"
      },
      "source": [
        "Create the following matrix:\n"
      ]
    },
    {
      "cell_type": "code",
      "metadata": {
        "id": "Ffryu79a6ad7",
        "colab": {
          "base_uri": "https://localhost:8080/"
        },
        "outputId": "663b6e2b-d774-47c1-e2e9-7fbc82c4e1b5"
      },
      "source": [
        "arr = np.linspace(0.01,1,100)\n",
        "arr=arr.reshape(10,10)\n",
        "print(arr)"
      ],
      "execution_count": null,
      "outputs": [
        {
          "output_type": "stream",
          "text": [
            "[[0.01 0.02 0.03 0.04 0.05 0.06 0.07 0.08 0.09 0.1 ]\n",
            " [0.11 0.12 0.13 0.14 0.15 0.16 0.17 0.18 0.19 0.2 ]\n",
            " [0.21 0.22 0.23 0.24 0.25 0.26 0.27 0.28 0.29 0.3 ]\n",
            " [0.31 0.32 0.33 0.34 0.35 0.36 0.37 0.38 0.39 0.4 ]\n",
            " [0.41 0.42 0.43 0.44 0.45 0.46 0.47 0.48 0.49 0.5 ]\n",
            " [0.51 0.52 0.53 0.54 0.55 0.56 0.57 0.58 0.59 0.6 ]\n",
            " [0.61 0.62 0.63 0.64 0.65 0.66 0.67 0.68 0.69 0.7 ]\n",
            " [0.71 0.72 0.73 0.74 0.75 0.76 0.77 0.78 0.79 0.8 ]\n",
            " [0.81 0.82 0.83 0.84 0.85 0.86 0.87 0.88 0.89 0.9 ]\n",
            " [0.91 0.92 0.93 0.94 0.95 0.96 0.97 0.98 0.99 1.  ]]\n"
          ],
          "name": "stdout"
        }
      ]
    },
    {
      "cell_type": "markdown",
      "metadata": {
        "id": "nIr9aiMP6hr0"
      },
      "source": [
        "Create an array of 20 linearly spaced points between 0 and 1:"
      ]
    },
    {
      "cell_type": "code",
      "metadata": {
        "id": "j2S6AEOl6w3z",
        "colab": {
          "base_uri": "https://localhost:8080/"
        },
        "outputId": "0d41815b-9007-40ee-e983-0e4121a00908"
      },
      "source": [
        "arr = np.linspace(0,1,20)\n",
        "print(arr)"
      ],
      "execution_count": null,
      "outputs": [
        {
          "output_type": "stream",
          "text": [
            "[0.         0.05263158 0.10526316 0.15789474 0.21052632 0.26315789\n",
            " 0.31578947 0.36842105 0.42105263 0.47368421 0.52631579 0.57894737\n",
            " 0.63157895 0.68421053 0.73684211 0.78947368 0.84210526 0.89473684\n",
            " 0.94736842 1.        ]\n"
          ],
          "name": "stdout"
        }
      ]
    },
    {
      "cell_type": "markdown",
      "metadata": {
        "id": "Nn1kfSMi6--T"
      },
      "source": [
        "Now you will be given a few matrices, and be asked to replicate the resulting matrix outputs:"
      ]
    },
    {
      "cell_type": "code",
      "metadata": {
        "id": "hSU_6lUw7Fxz",
        "colab": {
          "base_uri": "https://localhost:8080/"
        },
        "outputId": "9af91660-d196-4943-b388-bd8f6b3c887d"
      },
      "source": [
        "mat = np.arange(1,26).reshape(5,5)\n",
        "print(mat)"
      ],
      "execution_count": null,
      "outputs": [
        {
          "output_type": "stream",
          "text": [
            "[[ 1  2  3  4  5]\n",
            " [ 6  7  8  9 10]\n",
            " [11 12 13 14 15]\n",
            " [16 17 18 19 20]\n",
            " [21 22 23 24 25]]\n"
          ],
          "name": "stdout"
        }
      ]
    },
    {
      "cell_type": "code",
      "metadata": {
        "id": "bx2fBuSh7Xx8",
        "colab": {
          "base_uri": "https://localhost:8080/"
        },
        "outputId": "f9db2b38-f97c-4dd3-ca38-a5d1d2b43c96"
      },
      "source": [
        "print(mat[2:,1:])"
      ],
      "execution_count": null,
      "outputs": [
        {
          "output_type": "stream",
          "text": [
            "[[12 13 14 15]\n",
            " [17 18 19 20]\n",
            " [22 23 24 25]]\n"
          ],
          "name": "stdout"
        }
      ]
    },
    {
      "cell_type": "code",
      "metadata": {
        "id": "dHFiPIBx7YPC",
        "colab": {
          "base_uri": "https://localhost:8080/"
        },
        "outputId": "ed76107f-54d6-4571-c03a-1e8e4a52b54f"
      },
      "source": [
        "print(mat[3,4])"
      ],
      "execution_count": null,
      "outputs": [
        {
          "output_type": "stream",
          "text": [
            "20\n"
          ],
          "name": "stdout"
        }
      ]
    },
    {
      "cell_type": "code",
      "metadata": {
        "id": "AbnfCUhC7Zb-",
        "colab": {
          "base_uri": "https://localhost:8080/"
        },
        "outputId": "5a9ae9bd-8f5e-4d8c-bf77-bf66f5d11dc5"
      },
      "source": [
        "print(mat[:3,1:2])"
      ],
      "execution_count": null,
      "outputs": [
        {
          "output_type": "stream",
          "text": [
            "[[ 2]\n",
            " [ 7]\n",
            " [12]]\n"
          ],
          "name": "stdout"
        }
      ]
    },
    {
      "cell_type": "code",
      "metadata": {
        "id": "TQV7RK1r7l4_",
        "colab": {
          "base_uri": "https://localhost:8080/"
        },
        "outputId": "d9751cc7-9399-45e9-88b4-f3565a1f8b37"
      },
      "source": [
        "print(mat[4])"
      ],
      "execution_count": null,
      "outputs": [
        {
          "output_type": "stream",
          "text": [
            "[21 22 23 24 25]\n"
          ],
          "name": "stdout"
        }
      ]
    },
    {
      "cell_type": "code",
      "metadata": {
        "id": "-NxJdN6a7mFC",
        "colab": {
          "base_uri": "https://localhost:8080/"
        },
        "outputId": "572b1665-5365-472e-bf4b-32885e3b62ec"
      },
      "source": [
        "print(mat[3:])"
      ],
      "execution_count": null,
      "outputs": [
        {
          "output_type": "stream",
          "text": [
            "[[16 17 18 19 20]\n",
            " [21 22 23 24 25]]\n"
          ],
          "name": "stdout"
        }
      ]
    },
    {
      "cell_type": "markdown",
      "metadata": {
        "id": "SabfbFyr75Kg"
      },
      "source": [
        "Get the sum of all the values in mat"
      ]
    },
    {
      "cell_type": "code",
      "metadata": {
        "id": "jOC0WdoQ7_JR",
        "colab": {
          "base_uri": "https://localhost:8080/"
        },
        "outputId": "fed342ec-aa18-4633-edc9-4105cc18e717"
      },
      "source": [
        "var = np.sum(mat)\n",
        "print(var)"
      ],
      "execution_count": null,
      "outputs": [
        {
          "output_type": "stream",
          "text": [
            "325\n"
          ],
          "name": "stdout"
        }
      ]
    },
    {
      "cell_type": "markdown",
      "metadata": {
        "id": "fCBHuCMZ8QUc"
      },
      "source": [
        "Get the standard deviation of the values in mat"
      ]
    },
    {
      "cell_type": "code",
      "metadata": {
        "id": "XhOmNPxW8ReT",
        "colab": {
          "base_uri": "https://localhost:8080/"
        },
        "outputId": "8db31fdf-92cb-4948-8986-def4d6bcb512"
      },
      "source": [
        "var = np.std(mat)\n",
        "print(var)"
      ],
      "execution_count": null,
      "outputs": [
        {
          "output_type": "stream",
          "text": [
            "7.211102550927978\n"
          ],
          "name": "stdout"
        }
      ]
    },
    {
      "cell_type": "markdown",
      "metadata": {
        "id": "H-YaWNdc8Vqo"
      },
      "source": [
        "Get the sum of all the columns in mat\n"
      ]
    },
    {
      "cell_type": "code",
      "metadata": {
        "id": "xAMzzQa18ZZS",
        "colab": {
          "base_uri": "https://localhost:8080/"
        },
        "outputId": "2cbf1253-2e03-42f8-c787-4bdf97b2ce2b"
      },
      "source": [
        "sum_arr = np.array([0,0,0,0,0])\n",
        "arr_length = sum_arr.shape[0]\n",
        "for i in range(arr_length):\n",
        "    sum_arr[i] = np.sum(mat[0:,i])\n",
        "print(sum_arr)"
      ],
      "execution_count": null,
      "outputs": [
        {
          "output_type": "stream",
          "text": [
            "[55 60 65 70 75]\n"
          ],
          "name": "stdout"
        }
      ]
    }
  ]
}