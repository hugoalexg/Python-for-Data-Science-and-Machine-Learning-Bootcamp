{
  "nbformat": 4,
  "nbformat_minor": 0,
  "metadata": {
    "colab": {
      "name": "21 - Neural Nets and Deep Learning - part 1.ipynb",
      "provenance": [],
      "collapsed_sections": [],
      "authorship_tag": "ABX9TyO6pgGCCvaxj09t+cmTcC7M",
      "include_colab_link": true
    },
    "kernelspec": {
      "name": "python3",
      "display_name": "Python 3"
    }
  },
  "cells": [
    {
      "cell_type": "markdown",
      "metadata": {
        "id": "view-in-github",
        "colab_type": "text"
      },
      "source": [
        "<a href=\"https://colab.research.google.com/github/hugoalexg/Python-for-Data-Science-and-Machine-Learning-Bootcamp/blob/main/21_Neural_Nets_and_Deep_Learning_part_1.ipynb\" target=\"_parent\"><img src=\"https://colab.research.google.com/assets/colab-badge.svg\" alt=\"Open In Colab\"/></a>"
      ]
    },
    {
      "cell_type": "markdown",
      "metadata": {
        "id": "F39vvOtS0LbZ"
      },
      "source": [
        "\r\n",
        "**Keras Syntax Basics**\r\n",
        "\r\n",
        "With TensorFlow 2.0 , Keras is now the main API choice. Let's work through a simple regression project to understand the basics of the Keras syntax and adding layers."
      ]
    },
    {
      "cell_type": "markdown",
      "metadata": {
        "id": "0SJWH5At0Zt1"
      },
      "source": [
        "\r\n",
        "**The Data**\r\n",
        "\r\n",
        "To learn the basic syntax of Keras, we will use a very simple fake data set, in the subsequent lectures we will focus on real datasets, along with feature engineering! For now, let's focus on the syntax of TensorFlow 2.0.\r\n",
        "\r\n",
        "Let's pretend this data are measurements of some rare gem stones, with 2 measurement features and a sale price. Our final goal would be to try to predict the sale price of a new gem stone we just mined from the ground, in order to try to set a fair price in the market."
      ]
    },
    {
      "cell_type": "code",
      "metadata": {
        "id": "9rmyvaaGpKMc"
      },
      "source": [
        "import pandas as pd\r\n",
        "import matplotlib.pyplot as plt\r\n",
        "import seaborn as sns\r\n",
        "import numpy as np\r\n",
        "sns.set()"
      ],
      "execution_count": null,
      "outputs": []
    },
    {
      "cell_type": "code",
      "metadata": {
        "colab": {
          "base_uri": "https://localhost:8080/"
        },
        "id": "GNsb8BfE0HxC",
        "outputId": "ed492d9c-7f26-472c-a84b-ed4adb26c1a4"
      },
      "source": [
        "from google.colab import drive\r\n",
        "drive.mount(\"/content/drive\", force_remount=True)"
      ],
      "execution_count": null,
      "outputs": [
        {
          "output_type": "stream",
          "text": [
            "Mounted at /content/drive\n"
          ],
          "name": "stdout"
        }
      ]
    },
    {
      "cell_type": "code",
      "metadata": {
        "id": "WPmtmlo906Tn"
      },
      "source": [
        "df = pd.read_csv(\"/content/drive/My Drive/Python for Data Science and Machine Learning Bootcamp/Files/fake_reg.csv\")"
      ],
      "execution_count": null,
      "outputs": []
    },
    {
      "cell_type": "code",
      "metadata": {
        "colab": {
          "base_uri": "https://localhost:8080/",
          "height": 195
        },
        "id": "41vAXAWF1ycB",
        "outputId": "448d2734-6232-4413-b8b3-f7bd4a1c2cc5"
      },
      "source": [
        "df.head()"
      ],
      "execution_count": null,
      "outputs": [
        {
          "output_type": "execute_result",
          "data": {
            "text/html": [
              "<div>\n",
              "<style scoped>\n",
              "    .dataframe tbody tr th:only-of-type {\n",
              "        vertical-align: middle;\n",
              "    }\n",
              "\n",
              "    .dataframe tbody tr th {\n",
              "        vertical-align: top;\n",
              "    }\n",
              "\n",
              "    .dataframe thead th {\n",
              "        text-align: right;\n",
              "    }\n",
              "</style>\n",
              "<table border=\"1\" class=\"dataframe\">\n",
              "  <thead>\n",
              "    <tr style=\"text-align: right;\">\n",
              "      <th></th>\n",
              "      <th>price</th>\n",
              "      <th>feature1</th>\n",
              "      <th>feature2</th>\n",
              "    </tr>\n",
              "  </thead>\n",
              "  <tbody>\n",
              "    <tr>\n",
              "      <th>0</th>\n",
              "      <td>461.527929</td>\n",
              "      <td>999.787558</td>\n",
              "      <td>999.766096</td>\n",
              "    </tr>\n",
              "    <tr>\n",
              "      <th>1</th>\n",
              "      <td>548.130011</td>\n",
              "      <td>998.861615</td>\n",
              "      <td>1001.042403</td>\n",
              "    </tr>\n",
              "    <tr>\n",
              "      <th>2</th>\n",
              "      <td>410.297162</td>\n",
              "      <td>1000.070267</td>\n",
              "      <td>998.844015</td>\n",
              "    </tr>\n",
              "    <tr>\n",
              "      <th>3</th>\n",
              "      <td>540.382220</td>\n",
              "      <td>999.952251</td>\n",
              "      <td>1000.440940</td>\n",
              "    </tr>\n",
              "    <tr>\n",
              "      <th>4</th>\n",
              "      <td>546.024553</td>\n",
              "      <td>1000.446011</td>\n",
              "      <td>1000.338531</td>\n",
              "    </tr>\n",
              "  </tbody>\n",
              "</table>\n",
              "</div>"
            ],
            "text/plain": [
              "        price     feature1     feature2\n",
              "0  461.527929   999.787558   999.766096\n",
              "1  548.130011   998.861615  1001.042403\n",
              "2  410.297162  1000.070267   998.844015\n",
              "3  540.382220   999.952251  1000.440940\n",
              "4  546.024553  1000.446011  1000.338531"
            ]
          },
          "metadata": {
            "tags": []
          },
          "execution_count": 745
        }
      ]
    },
    {
      "cell_type": "code",
      "metadata": {
        "colab": {
          "base_uri": "https://localhost:8080/",
          "height": 565
        },
        "id": "kbrscCtP2zbD",
        "outputId": "e763dbd4-47a8-4a47-d8d8-e37863a2df97"
      },
      "source": [
        "sns.pairplot(df)"
      ],
      "execution_count": null,
      "outputs": [
        {
          "output_type": "execute_result",
          "data": {
            "text/plain": [
              "<seaborn.axisgrid.PairGrid at 0x7f5bc117a5f8>"
            ]
          },
          "metadata": {
            "tags": []
          },
          "execution_count": 746
        },
        {
          "output_type": "display_data",
          "data": {
            "image/png": "[encoded data removed]",
            "text/plain": [
              "<Figure size 540x540 with 12 Axes>"
            ]
          },
          "metadata": {
            "tags": []
          }
        }
      ]
    },
    {
      "cell_type": "markdown",
      "metadata": {
        "id": "J_b-6EsF3tEN"
      },
      "source": [
        "**Test/Train Split**\r\n"
      ]
    },
    {
      "cell_type": "code",
      "metadata": {
        "id": "i48aQqs13pPC"
      },
      "source": [
        "from sklearn.model_selection import train_test_split\r\n",
        "\r\n",
        "X = df[['feature1','feature2']].values\r\n",
        "y = df['price'].values\r\n",
        "# Split\r\n",
        "X_train, X_test, y_train, y_test = train_test_split(X,y,test_size=0.3,random_state=42)"
      ],
      "execution_count": null,
      "outputs": []
    },
    {
      "cell_type": "code",
      "metadata": {
        "colab": {
          "base_uri": "https://localhost:8080/",
          "height": 268
        },
        "id": "Z3lNgioQ8iZb",
        "outputId": "df25436a-fd64-4acf-b333-8e1edf8f8cad"
      },
      "source": [
        "#fazendo um teste com o algoritmo regressão linear antes, apenas para comparar (não faz parte do exercicio!)\r\n",
        "from sklearn.linear_model import LinearRegression\r\n",
        "\r\n",
        "lm = LinearRegression()\r\n",
        "lm.fit(X_train, y_train)\r\n",
        "predictions = lm.predict(X_test)\r\n",
        "sns.regplot(x=y_test, y=predictions, fit_reg=False)\r\n",
        "plt.ticklabel_format(style='plain')\r\n",
        "plt.show()"
      ],
      "execution_count": null,
      "outputs": [
        {
          "output_type": "display_data",
          "data": {
            "image/png": "[encoded data removed]",
            "text/plain": [
              "<Figure size 432x288 with 1 Axes>"
            ]
          },
          "metadata": {
            "tags": []
          }
        }
      ]
    },
    {
      "cell_type": "code",
      "metadata": {
        "colab": {
          "base_uri": "https://localhost:8080/"
        },
        "id": "dIo9FXfQ9OI7",
        "outputId": "d657ab21-2e48-460d-bbd0-2688e4a8b016"
      },
      "source": [
        "#verificando os erros com regressão linear (não faz parte do exercicio!)\r\n",
        "from sklearn import metrics\r\n",
        "\r\n",
        "print('MAE: ' + str(metrics.mean_absolute_error(y_test, predictions)))\r\n",
        "print('MSE: ' + str(metrics.mean_squared_error(y_test, predictions)))\r\n",
        "print('RMSE: ' + str(np.sqrt(metrics.mean_squared_error(y_test, predictions))))"
      ],
      "execution_count": null,
      "outputs": [
        {
          "output_type": "stream",
          "text": [
            "MAE: 4.022117726490923\n",
            "MSE: 25.139165929445127\n",
            "RMSE: 5.013897279506744\n"
          ],
          "name": "stdout"
        }
      ]
    },
    {
      "cell_type": "markdown",
      "metadata": {
        "id": "6qm4qyrm5je9"
      },
      "source": [
        "**Normalizing/Scaling the Data**\r\n"
      ]
    },
    {
      "cell_type": "code",
      "metadata": {
        "id": "_uox5cW85kk9"
      },
      "source": [
        "from sklearn.preprocessing import MinMaxScaler\r\n",
        "\r\n",
        "scaler = MinMaxScaler()\r\n",
        "scaler.fit(X_train)\r\n",
        "X_train = scaler.transform(X_train)\r\n",
        "X_test = scaler.transform(X_test)"
      ],
      "execution_count": null,
      "outputs": []
    },
    {
      "cell_type": "markdown",
      "metadata": {
        "id": "pwNs6VXYJugq"
      },
      "source": [
        "**TensorFlow 2.0 Syntax**\r\n"
      ]
    },
    {
      "cell_type": "code",
      "metadata": {
        "id": "136d6wBPJwFS"
      },
      "source": [
        "import tensorflow as tf\r\n",
        "from tensorflow.keras.models import Sequential\r\n",
        "from tensorflow.keras.layers import Dense, Activation"
      ],
      "execution_count": null,
      "outputs": []
    },
    {
      "cell_type": "markdown",
      "metadata": {
        "id": "BWClz5j3NAOP"
      },
      "source": [
        "Model - as a list of layers\r\n"
      ]
    },
    {
      "cell_type": "code",
      "metadata": {
        "id": "uDlMcVVhNBge"
      },
      "source": [
        "model = Sequential()\r\n",
        "\r\n",
        "#criando 3 camadas de neurônios: a primeira com 4, a segunda com 8, e a terceira com 4 neurônios. \r\n",
        "#Todos conectados com todos da camada seguinte (Dense). \r\n",
        "#função de ativaçao: \"ReLU\"\r\n",
        "model.add(Dense(4,activation='relu'))\r\n",
        "model.add(Dense(8,activation='relu'))\r\n",
        "model.add(Dense(4,activation='relu'))\r\n",
        "\r\n",
        "# Criando a camada de saida, com apenas 1 neurônio\r\n",
        "model.add(Dense(1))\r\n",
        "\r\n",
        "model.compile(optimizer='rmsprop',loss='mse')"
      ],
      "execution_count": null,
      "outputs": []
    },
    {
      "cell_type": "markdown",
      "metadata": {
        "id": "-ck7E_xHSIjh"
      },
      "source": [
        "Choosing an optimizer and loss\r\n",
        "Keep in mind what kind of problem you are trying to solve:\r\n",
        "- For a multi-class classification problem\r\n",
        "\r\n",
        "              model.compile(optimizer='rmsprop',\r\n",
        "              loss='categorical_crossentropy',\r\n",
        "              metrics=['accuracy'])\r\n",
        "\r\n",
        "- For a binary classification problem\r\n",
        "\r\n",
        "              model.compile(optimizer='rmsprop',\r\n",
        "              loss='binary_crossentropy',\r\n",
        "              metrics=['accuracy'])\r\n",
        "\r\n",
        "- For a mean squared error regression problem\r\n",
        "\r\n",
        "              model.compile(optimizer='rmsprop',\r\n",
        "              loss='mse')"
      ]
    },
    {
      "cell_type": "markdown",
      "metadata": {
        "id": "w6QvzxW8Tev-"
      },
      "source": [
        "**Training**"
      ]
    },
    {
      "cell_type": "code",
      "metadata": {
        "colab": {
          "base_uri": "https://localhost:8080/"
        },
        "id": "FPEIG4EaSKCI",
        "outputId": "94897308-82a2-4ecd-bfc5-22eb178441f9"
      },
      "source": [
        "model.fit(X_train,y_train,epochs=250)"
      ],
      "execution_count": null,
      "outputs": [
        {
          "output_type": "stream",
          "text": [
            "Epoch 1/250\n",
            "22/22 [==============================] - 1s 1ms/step - loss: 254995.5951\n",
            "Epoch 2/250\n",
            "22/22 [==============================] - 0s 1ms/step - loss: 261314.9395\n",
            "Epoch 3/250\n",
            "22/22 [==============================] - 0s 1ms/step - loss: 252630.7262\n",
            "Epoch 4/250\n",
            "22/22 [==============================] - 0s 1ms/step - loss: 259908.7024\n",
            "Epoch 5/250\n",
            "22/22 [==============================] - 0s 1ms/step - loss: 256714.8152\n",
            "Epoch 6/250\n",
            "22/22 [==============================] - 0s 1ms/step - loss: 248766.4395\n",
            "Epoch 7/250\n",
            "22/22 [==============================] - 0s 1ms/step - loss: 257281.1345\n",
            "Epoch 8/250\n",
            "22/22 [==============================] - 0s 1ms/step - loss: 256662.7391\n",
            "Epoch 9/250\n",
            "22/22 [==============================] - 0s 1ms/step - loss: 254756.9049\n",
            "Epoch 10/250\n",
            "22/22 [==============================] - 0s 1ms/step - loss: 251330.6379\n",
            "Epoch 11/250\n",
            "22/22 [==============================] - 0s 1ms/step - loss: 250938.7894\n",
            "Epoch 12/250\n",
            "22/22 [==============================] - 0s 1ms/step - loss: 253378.8961\n",
            "Epoch 13/250\n",
            "22/22 [==============================] - 0s 1ms/step - loss: 255661.2459\n",
            "Epoch 14/250\n",
            "22/22 [==============================] - 0s 2ms/step - loss: 248789.0136\n",
            "Epoch 15/250\n",
            "22/22 [==============================] - 0s 1ms/step - loss: 250161.8003\n",
            "Epoch 16/250\n",
            "22/22 [==============================] - 0s 1ms/step - loss: 246095.6719\n",
            "Epoch 17/250\n",
            "22/22 [==============================] - 0s 1ms/step - loss: 246706.5360\n",
            "Epoch 18/250\n",
            "22/22 [==============================] - 0s 1ms/step - loss: 248020.5632\n",
            "Epoch 19/250\n",
            "22/22 [==============================] - 0s 1ms/step - loss: 245483.5143\n",
            "Epoch 20/250\n",
            "22/22 [==============================] - 0s 1ms/step - loss: 239273.7806\n",
            "Epoch 21/250\n",
            "22/22 [==============================] - 0s 1ms/step - loss: 243695.8668\n",
            "Epoch 22/250\n",
            "22/22 [==============================] - 0s 1ms/step - loss: 244559.3166\n",
            "Epoch 23/250\n",
            "22/22 [==============================] - 0s 1ms/step - loss: 239629.5673\n",
            "Epoch 24/250\n",
            "22/22 [==============================] - 0s 1ms/step - loss: 238110.1053\n",
            "Epoch 25/250\n",
            "22/22 [==============================] - 0s 1ms/step - loss: 233467.0007\n",
            "Epoch 26/250\n",
            "22/22 [==============================] - 0s 2ms/step - loss: 231593.5149\n",
            "Epoch 27/250\n",
            "22/22 [==============================] - 0s 1ms/step - loss: 231516.9076\n",
            "Epoch 28/250\n",
            "22/22 [==============================] - 0s 1ms/step - loss: 231888.9219\n",
            "Epoch 29/250\n",
            "22/22 [==============================] - 0s 1ms/step - loss: 224327.0442\n",
            "Epoch 30/250\n",
            "22/22 [==============================] - 0s 1ms/step - loss: 223874.1433\n",
            "Epoch 31/250\n",
            "22/22 [==============================] - 0s 1ms/step - loss: 219741.0652\n",
            "Epoch 32/250\n",
            "22/22 [==============================] - 0s 1ms/step - loss: 214761.7283\n",
            "Epoch 33/250\n",
            "22/22 [==============================] - 0s 1ms/step - loss: 205181.0353\n",
            "Epoch 34/250\n",
            "22/22 [==============================] - 0s 2ms/step - loss: 207682.6427\n",
            "Epoch 35/250\n",
            "22/22 [==============================] - 0s 1ms/step - loss: 207371.5279\n",
            "Epoch 36/250\n",
            "22/22 [==============================] - 0s 1ms/step - loss: 197982.7058\n",
            "Epoch 37/250\n",
            "22/22 [==============================] - 0s 1ms/step - loss: 194356.2520\n",
            "Epoch 38/250\n",
            "22/22 [==============================] - 0s 1ms/step - loss: 189510.0842\n",
            "Epoch 39/250\n",
            "22/22 [==============================] - 0s 1ms/step - loss: 183032.4552\n",
            "Epoch 40/250\n",
            "22/22 [==============================] - 0s 1ms/step - loss: 181464.2921\n",
            "Epoch 41/250\n",
            "22/22 [==============================] - 0s 1ms/step - loss: 175721.9450\n",
            "Epoch 42/250\n",
            "22/22 [==============================] - 0s 1ms/step - loss: 170991.1535\n",
            "Epoch 43/250\n",
            "22/22 [==============================] - 0s 1ms/step - loss: 164782.1257\n",
            "Epoch 44/250\n",
            "22/22 [==============================] - 0s 1ms/step - loss: 160306.8526\n",
            "Epoch 45/250\n",
            "22/22 [==============================] - 0s 1ms/step - loss: 153799.6012\n",
            "Epoch 46/250\n",
            "22/22 [==============================] - 0s 1ms/step - loss: 144611.4368\n",
            "Epoch 47/250\n",
            "22/22 [==============================] - 0s 1ms/step - loss: 140866.8655\n",
            "Epoch 48/250\n",
            "22/22 [==============================] - 0s 1ms/step - loss: 131577.4113\n",
            "Epoch 49/250\n",
            "22/22 [==============================] - 0s 2ms/step - loss: 125891.6821\n",
            "Epoch 50/250\n",
            "22/22 [==============================] - 0s 1ms/step - loss: 115016.7368\n",
            "Epoch 51/250\n",
            "22/22 [==============================] - 0s 1ms/step - loss: 110640.7388\n",
            "Epoch 52/250\n",
            "22/22 [==============================] - 0s 1ms/step - loss: 107001.5543\n",
            "Epoch 53/250\n",
            "22/22 [==============================] - 0s 1ms/step - loss: 97138.8492\n",
            "Epoch 54/250\n",
            "22/22 [==============================] - 0s 1ms/step - loss: 91144.1929\n",
            "Epoch 55/250\n",
            "22/22 [==============================] - 0s 1ms/step - loss: 81231.0978\n",
            "Epoch 56/250\n",
            "22/22 [==============================] - 0s 1ms/step - loss: 76238.5934\n",
            "Epoch 57/250\n",
            "22/22 [==============================] - 0s 1ms/step - loss: 69414.7215\n",
            "Epoch 58/250\n",
            "22/22 [==============================] - 0s 1ms/step - loss: 63109.7425\n",
            "Epoch 59/250\n",
            "22/22 [==============================] - 0s 1ms/step - loss: 54860.1717\n",
            "Epoch 60/250\n",
            "22/22 [==============================] - 0s 2ms/step - loss: 49377.3799\n",
            "Epoch 61/250\n",
            "22/22 [==============================] - 0s 1ms/step - loss: 43536.7332\n",
            "Epoch 62/250\n",
            "22/22 [==============================] - 0s 1ms/step - loss: 34622.0589\n",
            "Epoch 63/250\n",
            "22/22 [==============================] - 0s 1ms/step - loss: 29394.8398\n",
            "Epoch 64/250\n",
            "22/22 [==============================] - 0s 1ms/step - loss: 25781.8794\n",
            "Epoch 65/250\n",
            "22/22 [==============================] - 0s 1ms/step - loss: 19350.1698\n",
            "Epoch 66/250\n",
            "22/22 [==============================] - 0s 1ms/step - loss: 14682.0456\n",
            "Epoch 67/250\n",
            "22/22 [==============================] - 0s 1ms/step - loss: 10650.1553\n",
            "Epoch 68/250\n",
            "22/22 [==============================] - 0s 1ms/step - loss: 8315.0827\n",
            "Epoch 69/250\n",
            "22/22 [==============================] - 0s 1ms/step - loss: 5342.6254\n",
            "Epoch 70/250\n",
            "22/22 [==============================] - 0s 1ms/step - loss: 3623.0904\n",
            "Epoch 71/250\n",
            "22/22 [==============================] - 0s 1ms/step - loss: 2475.1397\n",
            "Epoch 72/250\n",
            "22/22 [==============================] - 0s 1ms/step - loss: 2095.1527\n",
            "Epoch 73/250\n",
            "22/22 [==============================] - 0s 1ms/step - loss: 2071.9068\n",
            "Epoch 74/250\n",
            "22/22 [==============================] - 0s 1ms/step - loss: 2055.1365\n",
            "Epoch 75/250\n",
            "22/22 [==============================] - 0s 1ms/step - loss: 2001.1096\n",
            "Epoch 76/250\n",
            "22/22 [==============================] - 0s 1ms/step - loss: 1986.1360\n",
            "Epoch 77/250\n",
            "22/22 [==============================] - 0s 2ms/step - loss: 1966.5787\n",
            "Epoch 78/250\n",
            "22/22 [==============================] - 0s 1ms/step - loss: 1718.1928\n",
            "Epoch 79/250\n",
            "22/22 [==============================] - 0s 1ms/step - loss: 1660.0656\n",
            "Epoch 80/250\n",
            "22/22 [==============================] - 0s 1ms/step - loss: 1703.2487\n",
            "Epoch 81/250\n",
            "22/22 [==============================] - 0s 1ms/step - loss: 1703.2344\n",
            "Epoch 82/250\n",
            "22/22 [==============================] - 0s 1ms/step - loss: 1746.6106\n",
            "Epoch 83/250\n",
            "22/22 [==============================] - 0s 1ms/step - loss: 1674.3569\n",
            "Epoch 84/250\n",
            "22/22 [==============================] - 0s 1ms/step - loss: 1757.8859\n",
            "Epoch 85/250\n",
            "22/22 [==============================] - 0s 1ms/step - loss: 1698.0993\n",
            "Epoch 86/250\n",
            "22/22 [==============================] - 0s 1ms/step - loss: 1499.2754\n",
            "Epoch 87/250\n",
            "22/22 [==============================] - 0s 2ms/step - loss: 1463.6112\n",
            "Epoch 88/250\n",
            "22/22 [==============================] - 0s 2ms/step - loss: 1433.7949\n",
            "Epoch 89/250\n",
            "22/22 [==============================] - 0s 2ms/step - loss: 1343.4534\n",
            "Epoch 90/250\n",
            "22/22 [==============================] - 0s 1ms/step - loss: 1576.3480\n",
            "Epoch 91/250\n",
            "22/22 [==============================] - 0s 1ms/step - loss: 1443.7818\n",
            "Epoch 92/250\n",
            "22/22 [==============================] - 0s 2ms/step - loss: 1415.9894\n",
            "Epoch 93/250\n",
            "22/22 [==============================] - 0s 1ms/step - loss: 1250.0918\n",
            "Epoch 94/250\n",
            "22/22 [==============================] - 0s 1ms/step - loss: 1376.9030\n",
            "Epoch 95/250\n",
            "22/22 [==============================] - 0s 1ms/step - loss: 1137.4077\n",
            "Epoch 96/250\n",
            "22/22 [==============================] - 0s 1ms/step - loss: 1157.7831\n",
            "Epoch 97/250\n",
            "22/22 [==============================] - 0s 1ms/step - loss: 1184.0138\n",
            "Epoch 98/250\n",
            "22/22 [==============================] - 0s 1ms/step - loss: 1109.3473\n",
            "Epoch 99/250\n",
            "22/22 [==============================] - 0s 2ms/step - loss: 1054.8494\n",
            "Epoch 100/250\n",
            "22/22 [==============================] - 0s 2ms/step - loss: 1132.1724\n",
            "Epoch 101/250\n",
            "22/22 [==============================] - 0s 1ms/step - loss: 1084.9920\n",
            "Epoch 102/250\n",
            "22/22 [==============================] - 0s 1ms/step - loss: 1037.1315\n",
            "Epoch 103/250\n",
            "22/22 [==============================] - 0s 1ms/step - loss: 902.7222\n",
            "Epoch 104/250\n",
            "22/22 [==============================] - 0s 1ms/step - loss: 940.2507\n",
            "Epoch 105/250\n",
            "22/22 [==============================] - 0s 1ms/step - loss: 871.2470\n",
            "Epoch 106/250\n",
            "22/22 [==============================] - 0s 1ms/step - loss: 894.7193\n",
            "Epoch 107/250\n",
            "22/22 [==============================] - 0s 1ms/step - loss: 864.7534\n",
            "Epoch 108/250\n",
            "22/22 [==============================] - 0s 1ms/step - loss: 879.1706\n",
            "Epoch 109/250\n",
            "22/22 [==============================] - 0s 2ms/step - loss: 813.5793\n",
            "Epoch 110/250\n",
            "22/22 [==============================] - 0s 2ms/step - loss: 775.5460\n",
            "Epoch 111/250\n",
            "22/22 [==============================] - 0s 1ms/step - loss: 755.0298\n",
            "Epoch 112/250\n",
            "22/22 [==============================] - 0s 2ms/step - loss: 712.7139\n",
            "Epoch 113/250\n",
            "22/22 [==============================] - 0s 1ms/step - loss: 733.5806\n",
            "Epoch 114/250\n",
            "22/22 [==============================] - 0s 1ms/step - loss: 666.4691\n",
            "Epoch 115/250\n",
            "22/22 [==============================] - 0s 1ms/step - loss: 646.7607\n",
            "Epoch 116/250\n",
            "22/22 [==============================] - 0s 1ms/step - loss: 599.0370\n",
            "Epoch 117/250\n",
            "22/22 [==============================] - 0s 2ms/step - loss: 594.3373\n",
            "Epoch 118/250\n",
            "22/22 [==============================] - 0s 2ms/step - loss: 580.5199\n",
            "Epoch 119/250\n",
            "22/22 [==============================] - 0s 1ms/step - loss: 527.9223\n",
            "Epoch 120/250\n",
            "22/22 [==============================] - 0s 1ms/step - loss: 528.4499\n",
            "Epoch 121/250\n",
            "22/22 [==============================] - 0s 1ms/step - loss: 505.7836\n",
            "Epoch 122/250\n",
            "22/22 [==============================] - 0s 1ms/step - loss: 443.7880\n",
            "Epoch 123/250\n",
            "22/22 [==============================] - 0s 1ms/step - loss: 415.8799\n",
            "Epoch 124/250\n",
            "22/22 [==============================] - 0s 1ms/step - loss: 419.7304\n",
            "Epoch 125/250\n",
            "22/22 [==============================] - 0s 1ms/step - loss: 412.2961\n",
            "Epoch 126/250\n",
            "22/22 [==============================] - 0s 1ms/step - loss: 382.6450\n",
            "Epoch 127/250\n",
            "22/22 [==============================] - 0s 1ms/step - loss: 368.3864\n",
            "Epoch 128/250\n",
            "22/22 [==============================] - 0s 1ms/step - loss: 357.0968\n",
            "Epoch 129/250\n",
            "22/22 [==============================] - 0s 1ms/step - loss: 341.3973\n",
            "Epoch 130/250\n",
            "22/22 [==============================] - 0s 1ms/step - loss: 314.2545\n",
            "Epoch 131/250\n",
            "22/22 [==============================] - 0s 1ms/step - loss: 283.6228\n",
            "Epoch 132/250\n",
            "22/22 [==============================] - 0s 2ms/step - loss: 252.7430\n",
            "Epoch 133/250\n",
            "22/22 [==============================] - 0s 2ms/step - loss: 264.2530\n",
            "Epoch 134/250\n",
            "22/22 [==============================] - 0s 1ms/step - loss: 229.0736\n",
            "Epoch 135/250\n",
            "22/22 [==============================] - 0s 1ms/step - loss: 220.6338\n",
            "Epoch 136/250\n",
            "22/22 [==============================] - 0s 1ms/step - loss: 192.2557\n",
            "Epoch 137/250\n",
            "22/22 [==============================] - 0s 1ms/step - loss: 170.5593\n",
            "Epoch 138/250\n",
            "22/22 [==============================] - 0s 2ms/step - loss: 172.8281\n",
            "Epoch 139/250\n",
            "22/22 [==============================] - 0s 1ms/step - loss: 163.6076\n",
            "Epoch 140/250\n",
            "22/22 [==============================] - 0s 1ms/step - loss: 141.1808\n",
            "Epoch 141/250\n",
            "22/22 [==============================] - 0s 2ms/step - loss: 125.4331\n",
            "Epoch 142/250\n",
            "22/22 [==============================] - 0s 2ms/step - loss: 124.5744\n",
            "Epoch 143/250\n",
            "22/22 [==============================] - 0s 1ms/step - loss: 108.0833\n",
            "Epoch 144/250\n",
            "22/22 [==============================] - 0s 1ms/step - loss: 101.3899\n",
            "Epoch 145/250\n",
            "22/22 [==============================] - 0s 2ms/step - loss: 96.6469\n",
            "Epoch 146/250\n",
            "22/22 [==============================] - 0s 1ms/step - loss: 81.2469\n",
            "Epoch 147/250\n",
            "22/22 [==============================] - 0s 1ms/step - loss: 82.0695\n",
            "Epoch 148/250\n",
            "22/22 [==============================] - 0s 1ms/step - loss: 71.9032\n",
            "Epoch 149/250\n",
            "22/22 [==============================] - 0s 2ms/step - loss: 68.5930\n",
            "Epoch 150/250\n",
            "22/22 [==============================] - 0s 1ms/step - loss: 65.1121\n",
            "Epoch 151/250\n",
            "22/22 [==============================] - 0s 1ms/step - loss: 62.3573\n",
            "Epoch 152/250\n",
            "22/22 [==============================] - 0s 2ms/step - loss: 57.0610\n",
            "Epoch 153/250\n",
            "22/22 [==============================] - 0s 1ms/step - loss: 48.6857\n",
            "Epoch 154/250\n",
            "22/22 [==============================] - 0s 1ms/step - loss: 47.3596\n",
            "Epoch 155/250\n",
            "22/22 [==============================] - 0s 2ms/step - loss: 40.4327\n",
            "Epoch 156/250\n",
            "22/22 [==============================] - 0s 1ms/step - loss: 38.6565\n",
            "Epoch 157/250\n",
            "22/22 [==============================] - 0s 1ms/step - loss: 34.6153\n",
            "Epoch 158/250\n",
            "22/22 [==============================] - 0s 1ms/step - loss: 32.2335\n",
            "Epoch 159/250\n",
            "22/22 [==============================] - 0s 1ms/step - loss: 31.6618\n",
            "Epoch 160/250\n",
            "22/22 [==============================] - 0s 1ms/step - loss: 29.9788\n",
            "Epoch 161/250\n",
            "22/22 [==============================] - 0s 1ms/step - loss: 28.7915\n",
            "Epoch 162/250\n",
            "22/22 [==============================] - 0s 1ms/step - loss: 26.9755\n",
            "Epoch 163/250\n",
            "22/22 [==============================] - 0s 2ms/step - loss: 29.4852\n",
            "Epoch 164/250\n",
            "22/22 [==============================] - 0s 1ms/step - loss: 26.8166\n",
            "Epoch 165/250\n",
            "22/22 [==============================] - 0s 2ms/step - loss: 26.0389\n",
            "Epoch 166/250\n",
            "22/22 [==============================] - 0s 1ms/step - loss: 25.5929\n",
            "Epoch 167/250\n",
            "22/22 [==============================] - 0s 1ms/step - loss: 28.2470\n",
            "Epoch 168/250\n",
            "22/22 [==============================] - 0s 1ms/step - loss: 24.7388\n",
            "Epoch 169/250\n",
            "22/22 [==============================] - 0s 1ms/step - loss: 28.1735\n",
            "Epoch 170/250\n",
            "22/22 [==============================] - 0s 1ms/step - loss: 24.6364\n",
            "Epoch 171/250\n",
            "22/22 [==============================] - 0s 1ms/step - loss: 25.8821\n",
            "Epoch 172/250\n",
            "22/22 [==============================] - 0s 2ms/step - loss: 26.2723\n",
            "Epoch 173/250\n",
            "22/22 [==============================] - 0s 2ms/step - loss: 23.0309\n",
            "Epoch 174/250\n",
            "22/22 [==============================] - 0s 1ms/step - loss: 25.9585\n",
            "Epoch 175/250\n",
            "22/22 [==============================] - 0s 1ms/step - loss: 24.9779\n",
            "Epoch 176/250\n",
            "22/22 [==============================] - 0s 1ms/step - loss: 23.6925\n",
            "Epoch 177/250\n",
            "22/22 [==============================] - 0s 1ms/step - loss: 23.0375\n",
            "Epoch 178/250\n",
            "22/22 [==============================] - 0s 2ms/step - loss: 24.8968\n",
            "Epoch 179/250\n",
            "22/22 [==============================] - 0s 1ms/step - loss: 25.7869\n",
            "Epoch 180/250\n",
            "22/22 [==============================] - 0s 1ms/step - loss: 23.9017\n",
            "Epoch 181/250\n",
            "22/22 [==============================] - 0s 1ms/step - loss: 23.4049\n",
            "Epoch 182/250\n",
            "22/22 [==============================] - 0s 1ms/step - loss: 24.6293\n",
            "Epoch 183/250\n",
            "22/22 [==============================] - 0s 1ms/step - loss: 24.2044\n",
            "Epoch 184/250\n",
            "22/22 [==============================] - 0s 2ms/step - loss: 26.2652\n",
            "Epoch 185/250\n",
            "22/22 [==============================] - 0s 1ms/step - loss: 25.3153\n",
            "Epoch 186/250\n",
            "22/22 [==============================] - 0s 1ms/step - loss: 23.3562\n",
            "Epoch 187/250\n",
            "22/22 [==============================] - 0s 1ms/step - loss: 27.2106\n",
            "Epoch 188/250\n",
            "22/22 [==============================] - 0s 1ms/step - loss: 25.4540\n",
            "Epoch 189/250\n",
            "22/22 [==============================] - 0s 1ms/step - loss: 26.7900\n",
            "Epoch 190/250\n",
            "22/22 [==============================] - 0s 1ms/step - loss: 24.6090\n",
            "Epoch 191/250\n",
            "22/22 [==============================] - 0s 2ms/step - loss: 23.7875\n",
            "Epoch 192/250\n",
            "22/22 [==============================] - 0s 1ms/step - loss: 25.6420\n",
            "Epoch 193/250\n",
            "22/22 [==============================] - 0s 1ms/step - loss: 26.6105\n",
            "Epoch 194/250\n",
            "22/22 [==============================] - 0s 2ms/step - loss: 23.2559\n",
            "Epoch 195/250\n",
            "22/22 [==============================] - 0s 2ms/step - loss: 22.3452\n",
            "Epoch 196/250\n",
            "22/22 [==============================] - 0s 2ms/step - loss: 26.6315\n",
            "Epoch 197/250\n",
            "22/22 [==============================] - 0s 2ms/step - loss: 26.6376\n",
            "Epoch 198/250\n",
            "22/22 [==============================] - 0s 1ms/step - loss: 25.2817\n",
            "Epoch 199/250\n",
            "22/22 [==============================] - 0s 1ms/step - loss: 23.2754\n",
            "Epoch 200/250\n",
            "22/22 [==============================] - 0s 1ms/step - loss: 24.8931\n",
            "Epoch 201/250\n",
            "22/22 [==============================] - 0s 2ms/step - loss: 25.1018\n",
            "Epoch 202/250\n",
            "22/22 [==============================] - 0s 1ms/step - loss: 27.5878\n",
            "Epoch 203/250\n",
            "22/22 [==============================] - 0s 1ms/step - loss: 23.0670\n",
            "Epoch 204/250\n",
            "22/22 [==============================] - 0s 1ms/step - loss: 23.9959\n",
            "Epoch 205/250\n",
            "22/22 [==============================] - 0s 1ms/step - loss: 23.9461\n",
            "Epoch 206/250\n",
            "22/22 [==============================] - 0s 1ms/step - loss: 24.0883\n",
            "Epoch 207/250\n",
            "22/22 [==============================] - 0s 1ms/step - loss: 23.9069\n",
            "Epoch 208/250\n",
            "22/22 [==============================] - 0s 1ms/step - loss: 25.3227\n",
            "Epoch 209/250\n",
            "22/22 [==============================] - 0s 1ms/step - loss: 24.2687\n",
            "Epoch 210/250\n",
            "22/22 [==============================] - 0s 1ms/step - loss: 23.7263\n",
            "Epoch 211/250\n",
            "22/22 [==============================] - 0s 1ms/step - loss: 24.7194\n",
            "Epoch 212/250\n",
            "22/22 [==============================] - 0s 1ms/step - loss: 22.5665\n",
            "Epoch 213/250\n",
            "22/22 [==============================] - 0s 2ms/step - loss: 22.7186\n",
            "Epoch 214/250\n",
            "22/22 [==============================] - 0s 1ms/step - loss: 25.4638\n",
            "Epoch 215/250\n",
            "22/22 [==============================] - 0s 1ms/step - loss: 24.7657\n",
            "Epoch 216/250\n",
            "22/22 [==============================] - 0s 1ms/step - loss: 23.0125\n",
            "Epoch 217/250\n",
            "22/22 [==============================] - 0s 1ms/step - loss: 24.2361\n",
            "Epoch 218/250\n",
            "22/22 [==============================] - 0s 2ms/step - loss: 23.5229\n",
            "Epoch 219/250\n",
            "22/22 [==============================] - 0s 1ms/step - loss: 23.8089\n",
            "Epoch 220/250\n",
            "22/22 [==============================] - 0s 1ms/step - loss: 23.8163\n",
            "Epoch 221/250\n",
            "22/22 [==============================] - 0s 1ms/step - loss: 24.8962\n",
            "Epoch 222/250\n",
            "22/22 [==============================] - 0s 1ms/step - loss: 24.9531\n",
            "Epoch 223/250\n",
            "22/22 [==============================] - 0s 1ms/step - loss: 23.5406\n",
            "Epoch 224/250\n",
            "22/22 [==============================] - 0s 1ms/step - loss: 23.9216\n",
            "Epoch 225/250\n",
            "22/22 [==============================] - 0s 1ms/step - loss: 24.0968\n",
            "Epoch 226/250\n",
            "22/22 [==============================] - 0s 1ms/step - loss: 26.9422\n",
            "Epoch 227/250\n",
            "22/22 [==============================] - 0s 1ms/step - loss: 24.3729\n",
            "Epoch 228/250\n",
            "22/22 [==============================] - 0s 1ms/step - loss: 23.1235\n",
            "Epoch 229/250\n",
            "22/22 [==============================] - 0s 1ms/step - loss: 23.7562\n",
            "Epoch 230/250\n",
            "22/22 [==============================] - 0s 2ms/step - loss: 24.7442\n",
            "Epoch 231/250\n",
            "22/22 [==============================] - 0s 2ms/step - loss: 24.1046\n",
            "Epoch 232/250\n",
            "22/22 [==============================] - 0s 1ms/step - loss: 23.7955\n",
            "Epoch 233/250\n",
            "22/22 [==============================] - 0s 1ms/step - loss: 24.1105\n",
            "Epoch 234/250\n",
            "22/22 [==============================] - 0s 1ms/step - loss: 27.0983\n",
            "Epoch 235/250\n",
            "22/22 [==============================] - 0s 1ms/step - loss: 26.1974\n",
            "Epoch 236/250\n",
            "22/22 [==============================] - 0s 1ms/step - loss: 25.3072\n",
            "Epoch 237/250\n",
            "22/22 [==============================] - 0s 1ms/step - loss: 22.9038\n",
            "Epoch 238/250\n",
            "22/22 [==============================] - 0s 2ms/step - loss: 23.3730\n",
            "Epoch 239/250\n",
            "22/22 [==============================] - 0s 1ms/step - loss: 25.3561\n",
            "Epoch 240/250\n",
            "22/22 [==============================] - 0s 1ms/step - loss: 24.5111\n",
            "Epoch 241/250\n",
            "22/22 [==============================] - 0s 1ms/step - loss: 25.5980\n",
            "Epoch 242/250\n",
            "22/22 [==============================] - 0s 1ms/step - loss: 24.2559\n",
            "Epoch 243/250\n",
            "22/22 [==============================] - 0s 1ms/step - loss: 26.7784\n",
            "Epoch 244/250\n",
            "22/22 [==============================] - 0s 1ms/step - loss: 23.4792\n",
            "Epoch 245/250\n",
            "22/22 [==============================] - 0s 1ms/step - loss: 23.6447\n",
            "Epoch 246/250\n",
            "22/22 [==============================] - 0s 1ms/step - loss: 25.1809\n",
            "Epoch 247/250\n",
            "22/22 [==============================] - 0s 2ms/step - loss: 24.2680\n",
            "Epoch 248/250\n",
            "22/22 [==============================] - 0s 2ms/step - loss: 24.2331\n",
            "Epoch 249/250\n",
            "22/22 [==============================] - 0s 1ms/step - loss: 26.3824\n",
            "Epoch 250/250\n",
            "22/22 [==============================] - 0s 1ms/step - loss: 23.9767\n"
          ],
          "name": "stdout"
        },
        {
          "output_type": "execute_result",
          "data": {
            "text/plain": [
              "<tensorflow.python.keras.callbacks.History at 0x7f5bbeb8c240>"
            ]
          },
          "metadata": {
            "tags": []
          },
          "execution_count": 753
        }
      ]
    },
    {
      "cell_type": "markdown",
      "metadata": {
        "id": "KJGMZw7tUuQT"
      },
      "source": [
        "**Evaluation**\r\n",
        "\r\n",
        "Let's evaluate our performance on our training set and our test set. We can compare these two performances to check for overfitting."
      ]
    },
    {
      "cell_type": "code",
      "metadata": {
        "colab": {
          "base_uri": "https://localhost:8080/",
          "height": 301
        },
        "id": "bZ5qmgETUv8W",
        "outputId": "1633aea5-9d9a-484e-e307-667e2c5abeae"
      },
      "source": [
        "loss = model.history.history['loss']\r\n",
        "sns.lineplot(x=range(len(loss)),y=loss)\r\n",
        "plt.title(\"Training Loss per Epoch\")"
      ],
      "execution_count": null,
      "outputs": [
        {
          "output_type": "execute_result",
          "data": {
            "text/plain": [
              "Text(0.5, 1.0, 'Training Loss per Epoch')"
            ]
          },
          "metadata": {
            "tags": []
          },
          "execution_count": 754
        },
        {
          "output_type": "display_data",
          "data": {
            "image/png": "[encoded data removed]",
            "text/plain": [
              "<Figure size 432x288 with 1 Axes>"
            ]
          },
          "metadata": {
            "tags": []
          }
        }
      ]
    },
    {
      "cell_type": "markdown",
      "metadata": {
        "id": "YMpsF3RsvgBw"
      },
      "source": [
        "Compare final evaluation (MSE) on training set and test set.\r\n"
      ]
    },
    {
      "cell_type": "code",
      "metadata": {
        "id": "KMRr7swPvORv"
      },
      "source": [
        "training_score = model.evaluate(X_train,y_train,verbose=0)\r\n",
        "test_score = model.evaluate(X_test,y_test,verbose=0)"
      ],
      "execution_count": null,
      "outputs": []
    },
    {
      "cell_type": "code",
      "metadata": {
        "colab": {
          "base_uri": "https://localhost:8080/"
        },
        "id": "JSua8cygxGh1",
        "outputId": "bb2047d6-fdd9-408c-bd3e-b77281c583fe"
      },
      "source": [
        "training_score"
      ],
      "execution_count": null,
      "outputs": [
        {
          "output_type": "execute_result",
          "data": {
            "text/plain": [
              "23.894237518310547"
            ]
          },
          "metadata": {
            "tags": []
          },
          "execution_count": 756
        }
      ]
    },
    {
      "cell_type": "code",
      "metadata": {
        "colab": {
          "base_uri": "https://localhost:8080/"
        },
        "id": "nkIMVYuYxIyw",
        "outputId": "56a707c0-156d-4708-ec70-cda8340a2c14"
      },
      "source": [
        "test_score"
      ],
      "execution_count": null,
      "outputs": [
        {
          "output_type": "execute_result",
          "data": {
            "text/plain": [
              "24.880157470703125"
            ]
          },
          "metadata": {
            "tags": []
          },
          "execution_count": 757
        }
      ]
    },
    {
      "cell_type": "code",
      "metadata": {
        "id": "DNMGWOcwxb8k"
      },
      "source": [
        "#fazendo as previsões\r\n",
        "test_predictions = model.predict(X_test)"
      ],
      "execution_count": null,
      "outputs": []
    },
    {
      "cell_type": "code",
      "metadata": {
        "id": "_fjwmKS6yIxQ"
      },
      "source": [
        "#criando dataframe para comparação\r\n",
        "pred_df = pd.DataFrame({'Test Y': y_test ,'Model Predictions': test_predictions.reshape(300,)})"
      ],
      "execution_count": null,
      "outputs": []
    },
    {
      "cell_type": "code",
      "metadata": {
        "colab": {
          "base_uri": "https://localhost:8080/",
          "height": 195
        },
        "id": "5nMCDAd1DVFm",
        "outputId": "b4c75ca2-9596-48b6-ff9a-a092a026dbd8"
      },
      "source": [
        "pred_df.head()"
      ],
      "execution_count": null,
      "outputs": [
        {
          "output_type": "execute_result",
          "data": {
            "text/html": [
              "<div>\n",
              "<style scoped>\n",
              "    .dataframe tbody tr th:only-of-type {\n",
              "        vertical-align: middle;\n",
              "    }\n",
              "\n",
              "    .dataframe tbody tr th {\n",
              "        vertical-align: top;\n",
              "    }\n",
              "\n",
              "    .dataframe thead th {\n",
              "        text-align: right;\n",
              "    }\n",
              "</style>\n",
              "<table border=\"1\" class=\"dataframe\">\n",
              "  <thead>\n",
              "    <tr style=\"text-align: right;\">\n",
              "      <th></th>\n",
              "      <th>Test Y</th>\n",
              "      <th>Model Predictions</th>\n",
              "    </tr>\n",
              "  </thead>\n",
              "  <tbody>\n",
              "    <tr>\n",
              "      <th>0</th>\n",
              "      <td>402.296319</td>\n",
              "      <td>405.176697</td>\n",
              "    </tr>\n",
              "    <tr>\n",
              "      <th>1</th>\n",
              "      <td>624.156198</td>\n",
              "      <td>623.482605</td>\n",
              "    </tr>\n",
              "    <tr>\n",
              "      <th>2</th>\n",
              "      <td>582.455066</td>\n",
              "      <td>592.061707</td>\n",
              "    </tr>\n",
              "    <tr>\n",
              "      <th>3</th>\n",
              "      <td>578.588606</td>\n",
              "      <td>572.167297</td>\n",
              "    </tr>\n",
              "    <tr>\n",
              "      <th>4</th>\n",
              "      <td>371.224104</td>\n",
              "      <td>366.515259</td>\n",
              "    </tr>\n",
              "  </tbody>\n",
              "</table>\n",
              "</div>"
            ],
            "text/plain": [
              "       Test Y  Model Predictions\n",
              "0  402.296319         405.176697\n",
              "1  624.156198         623.482605\n",
              "2  582.455066         592.061707\n",
              "3  578.588606         572.167297\n",
              "4  371.224104         366.515259"
            ]
          },
          "metadata": {
            "tags": []
          },
          "execution_count": 760
        }
      ]
    },
    {
      "cell_type": "code",
      "metadata": {
        "colab": {
          "base_uri": "https://localhost:8080/",
          "height": 394
        },
        "id": "jXbgSK4D5LJd",
        "outputId": "dd18679b-0039-421e-9431-52201c37756c"
      },
      "source": [
        "plt.figure(figsize=(10,6))\r\n",
        "sns.regplot(x='Test Y', y='Model Predictions', data=pred_df, fit_reg=False)\r\n",
        "plt.show()"
      ],
      "execution_count": null,
      "outputs": [
        {
          "output_type": "display_data",
          "data": {
            "image/png": "[encoded data removed]",
            "text/plain": [
              "<Figure size 720x432 with 1 Axes>"
            ]
          },
          "metadata": {
            "tags": []
          }
        }
      ]
    },
    {
      "cell_type": "code",
      "metadata": {
        "colab": {
          "base_uri": "https://localhost:8080/",
          "height": 338
        },
        "id": "cpDfb4pb9oez",
        "outputId": "45112d0c-f965-435f-f250-de90ea5f82a8"
      },
      "source": [
        "pred_df['Error'] = pred_df['Test Y'] - pred_df['Model Predictions']\r\n",
        "sns.distplot(pred_df['Error'],bins=50)\r\n",
        "plt.ticklabel_format(style='plain')\r\n",
        "plt.show()"
      ],
      "execution_count": null,
      "outputs": [
        {
          "output_type": "stream",
          "text": [
            "/usr/local/lib/python3.6/dist-packages/seaborn/distributions.py:2557: FutureWarning: `distplot` is a deprecated function and will be removed in a future version. Please adapt your code to use either `displot` (a figure-level function with similar flexibility) or `histplot` (an axes-level function for histograms).\n",
            "  warnings.warn(msg, FutureWarning)\n"
          ],
          "name": "stderr"
        },
        {
          "output_type": "display_data",
          "data": {
            "image/png": "[encoded data removed]",
            "text/plain": [
              "<Figure size 432x288 with 1 Axes>"
            ]
          },
          "metadata": {
            "tags": []
          }
        }
      ]
    },
    {
      "cell_type": "code",
      "metadata": {
        "colab": {
          "base_uri": "https://localhost:8080/"
        },
        "id": "7Xk47kWv_Ar3",
        "outputId": "e8422ac0-6129-44c9-e530-7dcc3336da0a"
      },
      "source": [
        "print('MAE: ' + str(metrics.mean_absolute_error(pred_df['Test Y'], pred_df['Model Predictions'])))\r\n",
        "print('MSE: ' + str(metrics.mean_squared_error(pred_df['Test Y'], pred_df['Model Predictions'])))\r\n",
        "print('RMSE: ' + str(np.sqrt(metrics.mean_squared_error(pred_df['Test Y'], pred_df['Model Predictions']))))"
      ],
      "execution_count": null,
      "outputs": [
        {
          "output_type": "stream",
          "text": [
            "MAE: 3.9961544283104757\n",
            "MSE: 24.880156604944485\n",
            "RMSE: 4.988001263526753\n"
          ],
          "name": "stdout"
        }
      ]
    },
    {
      "cell_type": "markdown",
      "metadata": {
        "id": "VsEd9HGO7dgy"
      },
      "source": [
        "**Predicting on brand new data**\r\n"
      ]
    },
    {
      "cell_type": "code",
      "metadata": {
        "colab": {
          "base_uri": "https://localhost:8080/"
        },
        "id": "fWpouKiJ7c58",
        "outputId": "a3b3a941-2a63-46e3-bd81-f4ab559d2813"
      },
      "source": [
        "new_gem = [[998,1000]]\r\n",
        "new_gem = scaler.transform(new_gem)\r\n",
        "model.predict(new_gem)"
      ],
      "execution_count": null,
      "outputs": [
        {
          "output_type": "execute_result",
          "data": {
            "text/plain": [
              "array([[419.59744]], dtype=float32)"
            ]
          },
          "metadata": {
            "tags": []
          },
          "execution_count": 764
        }
      ]
    },
    {
      "cell_type": "markdown",
      "metadata": {
        "id": "puZynk2iBUUB"
      },
      "source": [
        "**Saving and Loading a Model**\r\n"
      ]
    },
    {
      "cell_type": "code",
      "metadata": {
        "colab": {
          "base_uri": "https://localhost:8080/"
        },
        "id": "n_D2xNF4BW--",
        "outputId": "3966084d-8f78-45f2-9e29-910ae53b8a05"
      },
      "source": [
        "from tensorflow.keras.models import load_model\r\n",
        "\r\n",
        "model.save('/content/drive/My Drive/Python for Data Science and Machine Learning Bootcamp/Files/my_model.h5')\r\n",
        "later_model = load_model('/content/drive/My Drive/Python for Data Science and Machine Learning Bootcamp/Files/my_model.h5')\r\n",
        "later_model.predict(new_gem)"
      ],
      "execution_count": null,
      "outputs": [
        {
          "output_type": "execute_result",
          "data": {
            "text/plain": [
              "array([[419.59744]], dtype=float32)"
            ]
          },
          "metadata": {
            "tags": []
          },
          "execution_count": 765
        }
      ]
    }
  ]
}