{
  "nbformat": 4,
  "nbformat_minor": 0,
  "metadata": {
    "colab": {
      "name": "1 - Crash-Course.ipynb",
      "provenance": [],
      "collapsed_sections": [],
      "authorship_tag": "ABX9TyOIJo7l25AAKcGgtiGzAVSG",
      "include_colab_link": true
    },
    "kernelspec": {
      "name": "python3",
      "display_name": "Python 3"
    }
  },
  "cells": [
    {
      "cell_type": "markdown",
      "metadata": {
        "id": "view-in-github",
        "colab_type": "text"
      },
      "source": [
        "<a href=\"https://colab.research.google.com/github/hugoalexg/Python-for-Data-Science-and-Machine-Learning-Bootcamp/blob/main/1_Crash_Course.ipynb\" target=\"_parent\"><img src=\"https://colab.research.google.com/assets/colab-badge.svg\" alt=\"Open In Colab\"/></a>"
      ]
    },
    {
      "cell_type": "markdown",
      "metadata": {
        "id": "n6GnmtfkvAed"
      },
      "source": [
        "\n",
        "** What is 7 to the power of 4?**"
      ]
    },
    {
      "cell_type": "code",
      "metadata": {
        "id": "DvaTCWq9vDEJ",
        "colab": {
          "base_uri": "https://localhost:8080/"
        },
        "outputId": "f0c78a46-4536-4e50-f89a-68bbce92d032"
      },
      "source": [
        "print(7**4)"
      ],
      "execution_count": null,
      "outputs": [
        {
          "output_type": "stream",
          "text": [
            "2401\n"
          ],
          "name": "stdout"
        }
      ]
    },
    {
      "cell_type": "markdown",
      "metadata": {
        "id": "I2YFkt9NvdU0"
      },
      "source": [
        "\n",
        "** Split this string:**\n",
        "s = \"Hi there Sam!\"\n",
        "*into a list. *"
      ]
    },
    {
      "cell_type": "code",
      "metadata": {
        "id": "7BJDC3DhvjW_",
        "colab": {
          "base_uri": "https://localhost:8080/"
        },
        "outputId": "9a4c3c8e-a1aa-4729-9867-477cca7b0fc9"
      },
      "source": [
        "s = \"Hi there Sam!\"\n",
        "list1 = list(s.split())\n",
        "print(list1)"
      ],
      "execution_count": null,
      "outputs": [
        {
          "output_type": "stream",
          "text": [
            "['Hi', 'there', 'Sam!']\n"
          ],
          "name": "stdout"
        }
      ]
    },
    {
      "cell_type": "markdown",
      "metadata": {
        "id": "5oIcUKOuv9Zj"
      },
      "source": [
        "** Given the variables:**\n",
        "planet = \"Earth\"\n",
        "diameter = 12742\n",
        "** Use .format() to print the following string: **\n",
        "The diameter of Earth is 12742 kilometers."
      ]
    },
    {
      "cell_type": "code",
      "metadata": {
        "id": "qRhmIG-zwHVD",
        "colab": {
          "base_uri": "https://localhost:8080/"
        },
        "outputId": "2a361f87-0255-4f25-f195-0ad77085ea8f"
      },
      "source": [
        "planet = \"Earth\"\n",
        "diameter = 12742\n",
        "print(\"The diameter of {x} is {y} kilometers.\".format(x=\"Earth\", y=str(diameter)))"
      ],
      "execution_count": null,
      "outputs": [
        {
          "output_type": "stream",
          "text": [
            "The diameter of Earth is 12742 kilometers.\n"
          ],
          "name": "stdout"
        }
      ]
    },
    {
      "cell_type": "markdown",
      "metadata": {
        "id": "a2hTuVUywcRi"
      },
      "source": [
        "\n",
        "** Given this nested list, use indexing to grab the word \"hello\" **"
      ]
    },
    {
      "cell_type": "code",
      "metadata": {
        "id": "-eXkbA0Jwfbh",
        "colab": {
          "base_uri": "https://localhost:8080/"
        },
        "outputId": "e7891984-a076-4c92-de81-f4ab303f7af7"
      },
      "source": [
        "lst = [1,2,[3,4],[5,[100,200,['hello']],23,11],1,7]\n",
        "print(lst[3][1][2][0])"
      ],
      "execution_count": null,
      "outputs": [
        {
          "output_type": "stream",
          "text": [
            "hello\n"
          ],
          "name": "stdout"
        }
      ]
    },
    {
      "cell_type": "markdown",
      "metadata": {
        "id": "9xxSvB8lwz-3"
      },
      "source": [
        "** Given this nested dictionary grab the word \"hello\". Be prepared, this will be annoying/tricky **"
      ]
    },
    {
      "cell_type": "code",
      "metadata": {
        "id": "qeI3PAR4w4tL",
        "colab": {
          "base_uri": "https://localhost:8080/"
        },
        "outputId": "d869928d-6ade-45c8-e501-6fb0ce653e77"
      },
      "source": [
        "d = {'k1':[1,2,3,{'tricky':['oh','man','inception',{'target':[1,2,3,'hello']}]}]} \n",
        "print(d['k1'][3]['tricky'][3]['target'][3])"
      ],
      "execution_count": null,
      "outputs": [
        {
          "output_type": "stream",
          "text": [
            "hello\n"
          ],
          "name": "stdout"
        }
      ]
    },
    {
      "cell_type": "markdown",
      "metadata": {
        "id": "V2omb2Vexsz8"
      },
      "source": [
        "\n",
        "** Create a function that grabs the email website domain from a string in the form: **"
      ]
    },
    {
      "cell_type": "code",
      "metadata": {
        "id": "n-lbtWewxtuS",
        "colab": {
          "base_uri": "https://localhost:8080/"
        },
        "outputId": "ac5ab7c5-7ddd-44fe-e712-0c32af6385eb"
      },
      "source": [
        "def domainGet(email):\n",
        "\treturn email.split('@')[1]\n",
        "\n",
        "print(domainGet('user@domain.com'))"
      ],
      "execution_count": null,
      "outputs": [
        {
          "output_type": "stream",
          "text": [
            "domain.com\n"
          ],
          "name": "stdout"
        }
      ]
    },
    {
      "cell_type": "markdown",
      "metadata": {
        "id": "7Tv8mjUdx0JW"
      },
      "source": [
        "** Create a basic function that returns True if the word 'dog' is contained in the input string. Don't worry about edge cases like a punctuation being attached to the word dog, but do account for capitalization. **"
      ]
    },
    {
      "cell_type": "code",
      "metadata": {
        "id": "lUmU8vaayJto",
        "colab": {
          "base_uri": "https://localhost:8080/"
        },
        "outputId": "1aaad7dd-7d36-4599-cd4d-7f9790a5bb35"
      },
      "source": [
        "def findDog(text):\n",
        "\treturn ('dog' in text.lower())\n",
        "\t\n",
        "print(findDog('Is there a Dog here?'))\n",
        "print(findDog('Is there a cat here?'))"
      ],
      "execution_count": null,
      "outputs": [
        {
          "output_type": "stream",
          "text": [
            "True\n",
            "False\n"
          ],
          "name": "stdout"
        }
      ]
    },
    {
      "cell_type": "markdown",
      "metadata": {
        "id": "4JHFjFqFyPgr"
      },
      "source": [
        "\n",
        "** Create a function that counts the number of times the word \"dog\" occurs in a string. Again ignore edge cases. **"
      ]
    },
    {
      "cell_type": "code",
      "metadata": {
        "id": "91kMKvS0yS0_",
        "colab": {
          "base_uri": "https://localhost:8080/"
        },
        "outputId": "3f79996d-2315-4aa0-c422-54bbe8b98dd4"
      },
      "source": [
        "def countDog(text):\n",
        "\tcounter = 0\n",
        "\tlist1 = list(text.split())\n",
        "\tfor s in list1:\n",
        "\t\tif ('dog' in s.lower()):\n",
        "\t\t\tcounter += 1\n",
        "\treturn counter\n",
        "\n",
        "print(countDog('This Dog of dog runs faster than the other dog!'))"
      ],
      "execution_count": null,
      "outputs": [
        {
          "output_type": "stream",
          "text": [
            "3\n"
          ],
          "name": "stdout"
        }
      ]
    },
    {
      "cell_type": "markdown",
      "metadata": {
        "id": "_FGEaeNdyfeW"
      },
      "source": [
        "** Use lambda expressions and the filter() function to filter out words from a list that don't start with the letter 's'. For example:**"
      ]
    },
    {
      "cell_type": "code",
      "metadata": {
        "id": "l6_MoJLuyls5",
        "colab": {
          "base_uri": "https://localhost:8080/"
        },
        "outputId": "aece6ce0-37bd-4c43-d7b6-74dfc3c5ee22"
      },
      "source": [
        "seq = ['soup','dog','salad','cat','great']\n",
        "seq_out = list(filter(lambda item: item[0] == 's',seq))\n",
        "print(seq_out)"
      ],
      "execution_count": null,
      "outputs": [
        {
          "output_type": "stream",
          "text": [
            "['soup', 'salad']\n"
          ],
          "name": "stdout"
        }
      ]
    },
    {
      "cell_type": "markdown",
      "metadata": {
        "id": "lcc6qaQzyyFE"
      },
      "source": [
        "*You are driving a little too fast, and a police officer stops you. Write a function to return one of 3 possible results: \"No ticket\", \"Small ticket\", or \"Big Ticket\". If your speed is 60 or less, the result is \"No Ticket\". If speed is between 61 and 80 inclusive, the result is \"Small Ticket\". If speed is 81 or more, the result is \"Big Ticket\". Unless it is your birthday (encoded as a boolean value in the parameters of the function) -- on your birthday, your speed can be 5 higher in all cases. *"
      ]
    },
    {
      "cell_type": "code",
      "metadata": {
        "id": "nShiI_Vty2jM",
        "colab": {
          "base_uri": "https://localhost:8080/"
        },
        "outputId": "0ac1e710-8329-43db-e490-c972202f644a"
      },
      "source": [
        "def caught_speeding(speed, is_birthday):\n",
        " \n",
        "    if is_birthday:\n",
        "        speed -= 5\n",
        " \n",
        "    if speed <= 60:\n",
        "        return 'No ticket'\n",
        "    elif (speed > 60) and (speed <= 80):\n",
        "        return 'Small ticket'\n",
        "    elif speed > 80:\n",
        "        return 'Big Ticket'\n",
        " \n",
        "print(caught_speeding(81,True))"
      ],
      "execution_count": null,
      "outputs": [
        {
          "output_type": "stream",
          "text": [
            "Small ticket\n"
          ],
          "name": "stdout"
        }
      ]
    }
  ]
}