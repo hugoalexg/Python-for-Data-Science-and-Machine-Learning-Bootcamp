{
  "nbformat": 4,
  "nbformat_minor": 0,
  "metadata": {
    "colab": {
      "name": "19 - Recommender Systems - part 2.ipynb",
      "provenance": [],
      "collapsed_sections": [],
      "authorship_tag": "ABX9TyOxzcYqGFcpawX5CYcKwKdY",
      "include_colab_link": true
    },
    "kernelspec": {
      "name": "python3",
      "display_name": "Python 3"
    }
  },
  "cells": [
    {
      "cell_type": "markdown",
      "metadata": {
        "id": "view-in-github",
        "colab_type": "text"
      },
      "source": [
        "<a href=\"https://colab.research.google.com/github/hugoalexg/Python-for-Data-Science-and-Machine-Learning-Bootcamp/blob/main/19_Recommender_Systems_part_2.ipynb\" target=\"_parent\"><img src=\"https://colab.research.google.com/assets/colab-badge.svg\" alt=\"Open In Colab\"/></a>"
      ]
    },
    {
      "cell_type": "markdown",
      "metadata": {
        "id": "Sg-DgoPK_S3T"
      },
      "source": [
        "\r\n",
        "**Advanced Recommender Systems with Python**\r\n",
        "\r\n",
        "Welcome to the code notebook for creating Advanced Recommender Systems with Python. This is an optional lecture notebook for you to check out. Currently there is no video for this lecture because of the level of mathematics used and the heavy use of SciPy here."
      ]
    },
    {
      "cell_type": "code",
      "metadata": {
        "id": "BTp08lzb-jZl"
      },
      "source": [
        "import pandas as pd\r\n",
        "import seaborn as sns\r\n",
        "import matplotlib.pyplot as plt\r\n",
        "import numpy as np"
      ],
      "execution_count": 3,
      "outputs": []
    },
    {
      "cell_type": "code",
      "metadata": {
        "colab": {
          "base_uri": "https://localhost:8080/"
        },
        "id": "8r9HXBfvBB5m",
        "outputId": "be26fa8a-5126-44d8-eca8-dbbdde0e5421"
      },
      "source": [
        "from google.colab import drive\r\n",
        "drive.mount(\"/content/drive\", force_remount=True)"
      ],
      "execution_count": 4,
      "outputs": [
        {
          "output_type": "stream",
          "text": [
            "Mounted at /content/drive\n"
          ],
          "name": "stdout"
        }
      ]
    },
    {
      "cell_type": "code",
      "metadata": {
        "id": "DYFoGFS8CcGZ"
      },
      "source": [
        "sns.set()"
      ],
      "execution_count": 5,
      "outputs": []
    },
    {
      "cell_type": "markdown",
      "metadata": {
        "id": "EEAYK5aBDo2e"
      },
      "source": [
        "Collaborative Filtering\r\n",
        "In general, Collaborative filtering (CF) is more commonly used than content-based systems because it usually gives better results and is relatively easy to understand (from an overall implementation perspective). The algorithm has the ability to do feature learning on its own, which means that it can start to learn for itself what features to use. "
      ]
    },
    {
      "cell_type": "markdown",
      "metadata": {
        "id": "Rb0mYekSCrTO"
      },
      "source": [
        "We can then read in the u.data file, which contains the full dataset."
      ]
    },
    {
      "cell_type": "code",
      "metadata": {
        "colab": {
          "base_uri": "https://localhost:8080/",
          "height": 195
        },
        "id": "Q2UY67C2C0-l",
        "outputId": "43765977-9250-4d3f-836b-3972eaa9ef6e"
      },
      "source": [
        "column_names = ['user_id', 'item_id', 'rating', 'timestamp']\r\n",
        "df = pd.read_csv('/content/drive/My Drive/Python for Data Science and Machine Learning Bootcamp/Files/u.data', sep='\\t', names=column_names)\r\n",
        "df.head()"
      ],
      "execution_count": 6,
      "outputs": [
        {
          "output_type": "execute_result",
          "data": {
            "text/html": [
              "<div>\n",
              "<style scoped>\n",
              "    .dataframe tbody tr th:only-of-type {\n",
              "        vertical-align: middle;\n",
              "    }\n",
              "\n",
              "    .dataframe tbody tr th {\n",
              "        vertical-align: top;\n",
              "    }\n",
              "\n",
              "    .dataframe thead th {\n",
              "        text-align: right;\n",
              "    }\n",
              "</style>\n",
              "<table border=\"1\" class=\"dataframe\">\n",
              "  <thead>\n",
              "    <tr style=\"text-align: right;\">\n",
              "      <th></th>\n",
              "      <th>user_id</th>\n",
              "      <th>item_id</th>\n",
              "      <th>rating</th>\n",
              "      <th>timestamp</th>\n",
              "    </tr>\n",
              "  </thead>\n",
              "  <tbody>\n",
              "    <tr>\n",
              "      <th>0</th>\n",
              "      <td>0</td>\n",
              "      <td>50</td>\n",
              "      <td>5</td>\n",
              "      <td>881250949</td>\n",
              "    </tr>\n",
              "    <tr>\n",
              "      <th>1</th>\n",
              "      <td>0</td>\n",
              "      <td>172</td>\n",
              "      <td>5</td>\n",
              "      <td>881250949</td>\n",
              "    </tr>\n",
              "    <tr>\n",
              "      <th>2</th>\n",
              "      <td>0</td>\n",
              "      <td>133</td>\n",
              "      <td>1</td>\n",
              "      <td>881250949</td>\n",
              "    </tr>\n",
              "    <tr>\n",
              "      <th>3</th>\n",
              "      <td>196</td>\n",
              "      <td>242</td>\n",
              "      <td>3</td>\n",
              "      <td>881250949</td>\n",
              "    </tr>\n",
              "    <tr>\n",
              "      <th>4</th>\n",
              "      <td>186</td>\n",
              "      <td>302</td>\n",
              "      <td>3</td>\n",
              "      <td>891717742</td>\n",
              "    </tr>\n",
              "  </tbody>\n",
              "</table>\n",
              "</div>"
            ],
            "text/plain": [
              "   user_id  item_id  rating  timestamp\n",
              "0        0       50       5  881250949\n",
              "1        0      172       5  881250949\n",
              "2        0      133       1  881250949\n",
              "3      196      242       3  881250949\n",
              "4      186      302       3  891717742"
            ]
          },
          "metadata": {
            "tags": []
          },
          "execution_count": 6
        }
      ]
    },
    {
      "cell_type": "code",
      "metadata": {
        "colab": {
          "base_uri": "https://localhost:8080/",
          "height": 195
        },
        "id": "ILOdCHbNJEqR",
        "outputId": "232aa596-c4a7-402e-f7fc-f52537562778"
      },
      "source": [
        "movie_titles = pd.read_csv(\"/content/drive/My Drive/Python for Data Science and Machine Learning Bootcamp/Files/Movie_Id_Titles\")\r\n",
        "movie_titles.head()"
      ],
      "execution_count": 7,
      "outputs": [
        {
          "output_type": "execute_result",
          "data": {
            "text/html": [
              "<div>\n",
              "<style scoped>\n",
              "    .dataframe tbody tr th:only-of-type {\n",
              "        vertical-align: middle;\n",
              "    }\n",
              "\n",
              "    .dataframe tbody tr th {\n",
              "        vertical-align: top;\n",
              "    }\n",
              "\n",
              "    .dataframe thead th {\n",
              "        text-align: right;\n",
              "    }\n",
              "</style>\n",
              "<table border=\"1\" class=\"dataframe\">\n",
              "  <thead>\n",
              "    <tr style=\"text-align: right;\">\n",
              "      <th></th>\n",
              "      <th>item_id</th>\n",
              "      <th>title</th>\n",
              "    </tr>\n",
              "  </thead>\n",
              "  <tbody>\n",
              "    <tr>\n",
              "      <th>0</th>\n",
              "      <td>1</td>\n",
              "      <td>Toy Story (1995)</td>\n",
              "    </tr>\n",
              "    <tr>\n",
              "      <th>1</th>\n",
              "      <td>2</td>\n",
              "      <td>GoldenEye (1995)</td>\n",
              "    </tr>\n",
              "    <tr>\n",
              "      <th>2</th>\n",
              "      <td>3</td>\n",
              "      <td>Four Rooms (1995)</td>\n",
              "    </tr>\n",
              "    <tr>\n",
              "      <th>3</th>\n",
              "      <td>4</td>\n",
              "      <td>Get Shorty (1995)</td>\n",
              "    </tr>\n",
              "    <tr>\n",
              "      <th>4</th>\n",
              "      <td>5</td>\n",
              "      <td>Copycat (1995)</td>\n",
              "    </tr>\n",
              "  </tbody>\n",
              "</table>\n",
              "</div>"
            ],
            "text/plain": [
              "   item_id              title\n",
              "0        1   Toy Story (1995)\n",
              "1        2   GoldenEye (1995)\n",
              "2        3  Four Rooms (1995)\n",
              "3        4  Get Shorty (1995)\n",
              "4        5     Copycat (1995)"
            ]
          },
          "metadata": {
            "tags": []
          },
          "execution_count": 7
        }
      ]
    },
    {
      "cell_type": "markdown",
      "metadata": {
        "id": "r31TYOLMJjAi"
      },
      "source": [
        "\r\n",
        "Then merge the dataframes:"
      ]
    },
    {
      "cell_type": "code",
      "metadata": {
        "colab": {
          "base_uri": "https://localhost:8080/",
          "height": 195
        },
        "id": "8OrLhMvkJmBR",
        "outputId": "d984f5b0-56d5-4fdc-95ae-b4ce1aa52c68"
      },
      "source": [
        "df = pd.merge(df,movie_titles,on='item_id')\r\n",
        "df.head()"
      ],
      "execution_count": 8,
      "outputs": [
        {
          "output_type": "execute_result",
          "data": {
            "text/html": [
              "<div>\n",
              "<style scoped>\n",
              "    .dataframe tbody tr th:only-of-type {\n",
              "        vertical-align: middle;\n",
              "    }\n",
              "\n",
              "    .dataframe tbody tr th {\n",
              "        vertical-align: top;\n",
              "    }\n",
              "\n",
              "    .dataframe thead th {\n",
              "        text-align: right;\n",
              "    }\n",
              "</style>\n",
              "<table border=\"1\" class=\"dataframe\">\n",
              "  <thead>\n",
              "    <tr style=\"text-align: right;\">\n",
              "      <th></th>\n",
              "      <th>user_id</th>\n",
              "      <th>item_id</th>\n",
              "      <th>rating</th>\n",
              "      <th>timestamp</th>\n",
              "      <th>title</th>\n",
              "    </tr>\n",
              "  </thead>\n",
              "  <tbody>\n",
              "    <tr>\n",
              "      <th>0</th>\n",
              "      <td>0</td>\n",
              "      <td>50</td>\n",
              "      <td>5</td>\n",
              "      <td>881250949</td>\n",
              "      <td>Star Wars (1977)</td>\n",
              "    </tr>\n",
              "    <tr>\n",
              "      <th>1</th>\n",
              "      <td>290</td>\n",
              "      <td>50</td>\n",
              "      <td>5</td>\n",
              "      <td>880473582</td>\n",
              "      <td>Star Wars (1977)</td>\n",
              "    </tr>\n",
              "    <tr>\n",
              "      <th>2</th>\n",
              "      <td>79</td>\n",
              "      <td>50</td>\n",
              "      <td>4</td>\n",
              "      <td>891271545</td>\n",
              "      <td>Star Wars (1977)</td>\n",
              "    </tr>\n",
              "    <tr>\n",
              "      <th>3</th>\n",
              "      <td>2</td>\n",
              "      <td>50</td>\n",
              "      <td>5</td>\n",
              "      <td>888552084</td>\n",
              "      <td>Star Wars (1977)</td>\n",
              "    </tr>\n",
              "    <tr>\n",
              "      <th>4</th>\n",
              "      <td>8</td>\n",
              "      <td>50</td>\n",
              "      <td>5</td>\n",
              "      <td>879362124</td>\n",
              "      <td>Star Wars (1977)</td>\n",
              "    </tr>\n",
              "  </tbody>\n",
              "</table>\n",
              "</div>"
            ],
            "text/plain": [
              "   user_id  item_id  rating  timestamp             title\n",
              "0        0       50       5  881250949  Star Wars (1977)\n",
              "1      290       50       5  880473582  Star Wars (1977)\n",
              "2       79       50       4  891271545  Star Wars (1977)\n",
              "3        2       50       5  888552084  Star Wars (1977)\n",
              "4        8       50       5  879362124  Star Wars (1977)"
            ]
          },
          "metadata": {
            "tags": []
          },
          "execution_count": 8
        }
      ]
    },
    {
      "cell_type": "code",
      "metadata": {
        "colab": {
          "base_uri": "https://localhost:8080/"
        },
        "id": "5VifvNmVKE4Z",
        "outputId": "bd07471e-7443-433c-b62b-c869e13f4c2e"
      },
      "source": [
        "df.info()"
      ],
      "execution_count": 9,
      "outputs": [
        {
          "output_type": "stream",
          "text": [
            "<class 'pandas.core.frame.DataFrame'>\n",
            "Int64Index: 100003 entries, 0 to 100002\n",
            "Data columns (total 5 columns):\n",
            " #   Column     Non-Null Count   Dtype \n",
            "---  ------     --------------   ----- \n",
            " 0   user_id    100003 non-null  int64 \n",
            " 1   item_id    100003 non-null  int64 \n",
            " 2   rating     100003 non-null  int64 \n",
            " 3   timestamp  100003 non-null  int64 \n",
            " 4   title      100003 non-null  object\n",
            "dtypes: int64(4), object(1)\n",
            "memory usage: 4.6+ MB\n"
          ],
          "name": "stdout"
        }
      ]
    },
    {
      "cell_type": "markdown",
      "metadata": {
        "id": "IMw74mtuKZMx"
      },
      "source": [
        "Now let's take a quick look at the number of unique users and movies."
      ]
    },
    {
      "cell_type": "code",
      "metadata": {
        "colab": {
          "base_uri": "https://localhost:8080/"
        },
        "id": "_k2bbu17Kduw",
        "outputId": "fc5747ef-7930-41a7-d6bf-f511286f73ea"
      },
      "source": [
        "n_users = df.user_id.nunique()\r\n",
        "n_items = df.item_id.nunique()\r\n",
        "\r\n",
        "print('Num. of Users: '+ str(n_users))\r\n",
        "print('Num of Movies: '+ str(n_items))"
      ],
      "execution_count": 10,
      "outputs": [
        {
          "output_type": "stream",
          "text": [
            "Num. of Users: 944\n",
            "Num of Movies: 1682\n"
          ],
          "name": "stdout"
        }
      ]
    },
    {
      "cell_type": "markdown",
      "metadata": {
        "id": "u92nxFOfDMcO"
      },
      "source": [
        "\r\n",
        "**Memory-Based Collaborative Filtering**\r\n",
        "\r\n",
        "Memory-Based Collaborative Filtering approaches can be divided into two main sections: user-item filtering and item-item filtering. \r\n",
        "\r\n",
        "A user-item filtering will take a particular user, find users that are similar to that user based on similarity of ratings, and recommend items that those similar users liked. \r\n",
        "\r\n",
        "In contrast, item-item filtering will take an item, find users who liked that item, and find other items that those users or similar users also liked. It takes items and outputs other items as recommendations. \r\n",
        "\r\n",
        "Item-Item Collaborative Filtering: “Users who liked this item also liked …”\r\n",
        "\r\n",
        "User-Item Collaborative Filtering: “Users who are similar to you also liked …”"
      ]
    },
    {
      "cell_type": "code",
      "metadata": {
        "id": "T4UKn8LszgSR"
      },
      "source": [
        "#criando matriz user vs items\r\n",
        "data_matrix = np.zeros((n_users, n_items))\r\n",
        "for line in df.itertuples():\r\n",
        "    data_matrix[line[1]-1, line[2]-1] = line[3]"
      ],
      "execution_count": 11,
      "outputs": []
    },
    {
      "cell_type": "code",
      "metadata": {
        "id": "4CcN8YO9PEnD"
      },
      "source": [
        "#calculando cosine similarity para diferentes usuarios, e diferentes filmes\r\n",
        "from sklearn.metrics.pairwise import pairwise_distances\r\n",
        "user_similarity = pairwise_distances(data_matrix, metric='cosine')\r\n",
        "item_similarity = pairwise_distances(data_matrix.T, metric='cosine')"
      ],
      "execution_count": 12,
      "outputs": []
    },
    {
      "cell_type": "code",
      "metadata": {
        "colab": {
          "base_uri": "https://localhost:8080/"
        },
        "id": "ANYKG1CARUiW",
        "outputId": "6cdba901-c8ad-4dcd-b4e1-7e3e0b15b0de"
      },
      "source": [
        "#apenas para entender a \"cosine similarity\", nao faz parte do exercicio\r\n",
        "mat = np.matrix([[1, 2, 3], [2, 4, 6], [20, 7, 4]])\r\n",
        "cos = pairwise_distances(mat, metric='cosine')\r\n",
        "print(cos)"
      ],
      "execution_count": 13,
      "outputs": [
        {
          "output_type": "stream",
          "text": [
            "[[0.         0.         0.42987861]\n",
            " [0.         0.         0.42987861]\n",
            " [0.42987861 0.42987861 0.        ]]\n"
          ],
          "name": "stdout"
        }
      ]
    },
    {
      "cell_type": "code",
      "metadata": {
        "id": "dIJ-6j-X03HS"
      },
      "source": [
        "#funcao que \"preve\" a nota de todos os filmes para cada usuario\r\n",
        "def predict(ratings, similarity, type='user'):\r\n",
        "    if type == 'user':\r\n",
        "        mean_user_rating = ratings.mean(axis=1)\r\n",
        "        ratings_diff = (ratings - mean_user_rating[:, np.newaxis])\r\n",
        "        pred = mean_user_rating[:, np.newaxis] + similarity.dot(ratings_diff) / np.array([np.abs(similarity).sum(axis=1)]).T\r\n",
        "    elif type == 'item':\r\n",
        "        pred = ratings.dot(similarity) / np.array([np.abs(similarity).sum(axis=1)])\r\n",
        "    return pred"
      ],
      "execution_count": 14,
      "outputs": []
    },
    {
      "cell_type": "code",
      "metadata": {
        "id": "e_MOf9tf0-6_"
      },
      "source": [
        "item_prediction = predict(data_matrix, item_similarity, type='item')\r\n",
        "user_prediction = predict(data_matrix, user_similarity, type='user')"
      ],
      "execution_count": 15,
      "outputs": []
    },
    {
      "cell_type": "code",
      "metadata": {
        "id": "8PzgRwOnMPhg"
      },
      "source": [
        "#funcao que gera lista de filmes recomendados para determinado usuarios\r\n",
        "def recommend_movies_user_n(user, user_pred, data_mat):\r\n",
        "    user_n_dic = {'item_id': [],'rating': []}\r\n",
        "    user_n = user_pred[user]\r\n",
        "    rating_n = data_mat[user]\r\n",
        "    for i in range(0,len(rating_n)):\r\n",
        "        if rating_n[i] == 0:\r\n",
        "            user_n_dic['item_id'].append(i+1)\r\n",
        "            user_n_dic['rating'].append(user_n[i])\r\n",
        "    user_n_dataframe = pd.DataFrame(user_n_dic)\r\n",
        "    user_n_dataframe = pd.merge(user_n_dataframe, movie_titles,on='item_id')\r\n",
        "    return user_n_dataframe.sort_values(by='rating',ascending=False).head(5)"
      ],
      "execution_count": 16,
      "outputs": []
    },
    {
      "cell_type": "code",
      "metadata": {
        "colab": {
          "base_uri": "https://localhost:8080/",
          "height": 195
        },
        "id": "sHLomiznM0Cb",
        "outputId": "452f9c11-b828-4857-cf9d-6d9c8fc05bc5"
      },
      "source": [
        "#filmes recomendados para o usuario 550\r\n",
        "recommend_movies_user_n(550, user_prediction, data_matrix)"
      ],
      "execution_count": 17,
      "outputs": [
        {
          "output_type": "execute_result",
          "data": {
            "text/html": [
              "<div>\n",
              "<style scoped>\n",
              "    .dataframe tbody tr th:only-of-type {\n",
              "        vertical-align: middle;\n",
              "    }\n",
              "\n",
              "    .dataframe tbody tr th {\n",
              "        vertical-align: top;\n",
              "    }\n",
              "\n",
              "    .dataframe thead th {\n",
              "        text-align: right;\n",
              "    }\n",
              "</style>\n",
              "<table border=\"1\" class=\"dataframe\">\n",
              "  <thead>\n",
              "    <tr style=\"text-align: right;\">\n",
              "      <th></th>\n",
              "      <th>item_id</th>\n",
              "      <th>rating</th>\n",
              "      <th>title</th>\n",
              "    </tr>\n",
              "  </thead>\n",
              "  <tbody>\n",
              "    <tr>\n",
              "      <th>0</th>\n",
              "      <td>1</td>\n",
              "      <td>2.264186</td>\n",
              "      <td>Toy Story (1995)</td>\n",
              "    </tr>\n",
              "    <tr>\n",
              "      <th>136</th>\n",
              "      <td>269</td>\n",
              "      <td>1.906420</td>\n",
              "      <td>Full Monty, The (1997)</td>\n",
              "    </tr>\n",
              "    <tr>\n",
              "      <th>91</th>\n",
              "      <td>173</td>\n",
              "      <td>1.793152</td>\n",
              "      <td>Princess Bride, The (1987)</td>\n",
              "    </tr>\n",
              "    <tr>\n",
              "      <th>79</th>\n",
              "      <td>151</td>\n",
              "      <td>1.683907</td>\n",
              "      <td>Willy Wonka and the Chocolate Factory (1971)</td>\n",
              "    </tr>\n",
              "    <tr>\n",
              "      <th>129</th>\n",
              "      <td>257</td>\n",
              "      <td>1.674988</td>\n",
              "      <td>Men in Black (1997)</td>\n",
              "    </tr>\n",
              "  </tbody>\n",
              "</table>\n",
              "</div>"
            ],
            "text/plain": [
              "     item_id    rating                                         title\n",
              "0          1  2.264186                              Toy Story (1995)\n",
              "136      269  1.906420                        Full Monty, The (1997)\n",
              "91       173  1.793152                    Princess Bride, The (1987)\n",
              "79       151  1.683907  Willy Wonka and the Chocolate Factory (1971)\n",
              "129      257  1.674988                           Men in Black (1997)"
            ]
          },
          "metadata": {
            "tags": []
          },
          "execution_count": 17
        }
      ]
    },
    {
      "cell_type": "code",
      "metadata": {
        "colab": {
          "base_uri": "https://localhost:8080/",
          "height": 402
        },
        "id": "yPa0A-2dRBm0",
        "outputId": "aeb16f62-5dd3-41a7-dba7-94b7b9a890bd"
      },
      "source": [
        "#filme preferidos do usuario numero 550.\r\n",
        "df[(df['user_id'] == 550) & (df['rating'] == 5)]"
      ],
      "execution_count": 18,
      "outputs": [
        {
          "output_type": "execute_result",
          "data": {
            "text/html": [
              "<div>\n",
              "<style scoped>\n",
              "    .dataframe tbody tr th:only-of-type {\n",
              "        vertical-align: middle;\n",
              "    }\n",
              "\n",
              "    .dataframe tbody tr th {\n",
              "        vertical-align: top;\n",
              "    }\n",
              "\n",
              "    .dataframe thead th {\n",
              "        text-align: right;\n",
              "    }\n",
              "</style>\n",
              "<table border=\"1\" class=\"dataframe\">\n",
              "  <thead>\n",
              "    <tr style=\"text-align: right;\">\n",
              "      <th></th>\n",
              "      <th>user_id</th>\n",
              "      <th>item_id</th>\n",
              "      <th>rating</th>\n",
              "      <th>timestamp</th>\n",
              "      <th>title</th>\n",
              "    </tr>\n",
              "  </thead>\n",
              "  <tbody>\n",
              "    <tr>\n",
              "      <th>238</th>\n",
              "      <td>550</td>\n",
              "      <td>50</td>\n",
              "      <td>5</td>\n",
              "      <td>883425283</td>\n",
              "      <td>Star Wars (1977)</td>\n",
              "    </tr>\n",
              "    <tr>\n",
              "      <th>9588</th>\n",
              "      <td>550</td>\n",
              "      <td>181</td>\n",
              "      <td>5</td>\n",
              "      <td>883425283</td>\n",
              "      <td>Return of the Jedi (1983)</td>\n",
              "    </tr>\n",
              "    <tr>\n",
              "      <th>11187</th>\n",
              "      <td>550</td>\n",
              "      <td>288</td>\n",
              "      <td>5</td>\n",
              "      <td>883425979</td>\n",
              "      <td>Scream (1996)</td>\n",
              "    </tr>\n",
              "    <tr>\n",
              "      <th>12478</th>\n",
              "      <td>550</td>\n",
              "      <td>15</td>\n",
              "      <td>5</td>\n",
              "      <td>883426027</td>\n",
              "      <td>Mr. Holland's Opus (1995)</td>\n",
              "    </tr>\n",
              "    <tr>\n",
              "      <th>17207</th>\n",
              "      <td>550</td>\n",
              "      <td>328</td>\n",
              "      <td>5</td>\n",
              "      <td>883425652</td>\n",
              "      <td>Conspiracy Theory (1997)</td>\n",
              "    </tr>\n",
              "    <tr>\n",
              "      <th>24343</th>\n",
              "      <td>550</td>\n",
              "      <td>323</td>\n",
              "      <td>5</td>\n",
              "      <td>883425465</td>\n",
              "      <td>Dante's Peak (1997)</td>\n",
              "    </tr>\n",
              "    <tr>\n",
              "      <th>26628</th>\n",
              "      <td>550</td>\n",
              "      <td>258</td>\n",
              "      <td>5</td>\n",
              "      <td>883425409</td>\n",
              "      <td>Contact (1997)</td>\n",
              "    </tr>\n",
              "    <tr>\n",
              "      <th>40916</th>\n",
              "      <td>550</td>\n",
              "      <td>271</td>\n",
              "      <td>5</td>\n",
              "      <td>883425652</td>\n",
              "      <td>Starship Troopers (1997)</td>\n",
              "    </tr>\n",
              "    <tr>\n",
              "      <th>55907</th>\n",
              "      <td>550</td>\n",
              "      <td>121</td>\n",
              "      <td>5</td>\n",
              "      <td>883426027</td>\n",
              "      <td>Independence Day (ID4) (1996)</td>\n",
              "    </tr>\n",
              "    <tr>\n",
              "      <th>66157</th>\n",
              "      <td>550</td>\n",
              "      <td>310</td>\n",
              "      <td>5</td>\n",
              "      <td>883425627</td>\n",
              "      <td>Rainmaker, The (1997)</td>\n",
              "    </tr>\n",
              "    <tr>\n",
              "      <th>80767</th>\n",
              "      <td>550</td>\n",
              "      <td>313</td>\n",
              "      <td>5</td>\n",
              "      <td>883425610</td>\n",
              "      <td>Titanic (1997)</td>\n",
              "    </tr>\n",
              "    <tr>\n",
              "      <th>96670</th>\n",
              "      <td>550</td>\n",
              "      <td>538</td>\n",
              "      <td>5</td>\n",
              "      <td>883425812</td>\n",
              "      <td>Anastasia (1997)</td>\n",
              "    </tr>\n",
              "  </tbody>\n",
              "</table>\n",
              "</div>"
            ],
            "text/plain": [
              "       user_id  item_id  rating  timestamp                          title\n",
              "238        550       50       5  883425283               Star Wars (1977)\n",
              "9588       550      181       5  883425283      Return of the Jedi (1983)\n",
              "11187      550      288       5  883425979                  Scream (1996)\n",
              "12478      550       15       5  883426027      Mr. Holland's Opus (1995)\n",
              "17207      550      328       5  883425652       Conspiracy Theory (1997)\n",
              "24343      550      323       5  883425465            Dante's Peak (1997)\n",
              "26628      550      258       5  883425409                 Contact (1997)\n",
              "40916      550      271       5  883425652       Starship Troopers (1997)\n",
              "55907      550      121       5  883426027  Independence Day (ID4) (1996)\n",
              "66157      550      310       5  883425627          Rainmaker, The (1997)\n",
              "80767      550      313       5  883425610                 Titanic (1997)\n",
              "96670      550      538       5  883425812               Anastasia (1997)"
            ]
          },
          "metadata": {
            "tags": []
          },
          "execution_count": 18
        }
      ]
    },
    {
      "cell_type": "code",
      "metadata": {
        "id": "ZdfgS2KvXY_2"
      },
      "source": [
        "#verificando correlação entre filmes\r\n",
        "dfnew = pd.DataFrame(item_similarity, index=list(movie_titles['title']),columns=list(movie_titles['title']))"
      ],
      "execution_count": 19,
      "outputs": []
    },
    {
      "cell_type": "code",
      "metadata": {
        "colab": {
          "base_uri": "https://localhost:8080/"
        },
        "id": "iGYYsJVCcI-j",
        "outputId": "e5b447d3-8815-45d1-bb4c-e1128457e881"
      },
      "source": [
        "dfnew['Mask, The (1994)'].sort_values(ascending=True).head(6)"
      ],
      "execution_count": 20,
      "outputs": [
        {
          "output_type": "execute_result",
          "data": {
            "text/plain": [
              "Mask, The (1994)                     0.000000\n",
              "Ace Ventura: Pet Detective (1994)    0.389616\n",
              "Mrs. Doubtfire (1993)                0.411207\n",
              "Batman (1989)                        0.420240\n",
              "Clueless (1995)                      0.437902\n",
              "Interview with the Vampire (1994)    0.438974\n",
              "Name: Mask, The (1994), dtype: float64"
            ]
          },
          "metadata": {
            "tags": []
          },
          "execution_count": 20
        }
      ]
    },
    {
      "cell_type": "code",
      "metadata": {
        "colab": {
          "base_uri": "https://localhost:8080/"
        },
        "id": "yoe-Lmh_cK31",
        "outputId": "cabf7bbd-0d97-43a5-d8d1-8d13fa081d4b"
      },
      "source": [
        "dfnew['Star Wars (1977)'].sort_values(ascending=True).head(6)"
      ],
      "execution_count": 21,
      "outputs": [
        {
          "output_type": "execute_result",
          "data": {
            "text/plain": [
              "Star Wars (1977)                   0.000000\n",
              "Return of the Jedi (1983)          0.116482\n",
              "Raiders of the Lost Ark (1981)     0.235943\n",
              "Empire Strikes Back, The (1980)    0.249550\n",
              "Toy Story (1995)                   0.266223\n",
              "Godfather, The (1972)              0.303423\n",
              "Name: Star Wars (1977), dtype: float64"
            ]
          },
          "metadata": {
            "tags": []
          },
          "execution_count": 21
        }
      ]
    },
    {
      "cell_type": "code",
      "metadata": {
        "colab": {
          "base_uri": "https://localhost:8080/"
        },
        "id": "OiWaiaF6cj8r",
        "outputId": "3da6064d-a24e-472e-b722-d86066a7d838"
      },
      "source": [
        "dfnew['Scream (1996)'].sort_values(ascending=True).head(6)"
      ],
      "execution_count": 22,
      "outputs": [
        {
          "output_type": "execute_result",
          "data": {
            "text/plain": [
              "Scream (1996)            0.000000\n",
              "Liar Liar (1997)         0.404640\n",
              "Contact (1997)           0.429226\n",
              "Twelve Monkeys (1995)    0.472323\n",
              "Air Force One (1997)     0.476672\n",
              "Game, The (1997)         0.484658\n",
              "Name: Scream (1996), dtype: float64"
            ]
          },
          "metadata": {
            "tags": []
          },
          "execution_count": 22
        }
      ]
    }
  ]
}